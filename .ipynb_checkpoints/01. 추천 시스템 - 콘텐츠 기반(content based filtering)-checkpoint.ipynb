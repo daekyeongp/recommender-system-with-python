{
 "cells": [
  {
   "cell_type": "markdown",
   "metadata": {
    "id": "qAkZXR7WJWrk"
   },
   "source": [
    "### 사용된 데이터 세트\n",
    "- **TMDB 5000 Movie Dataset (https://www.kaggle.com/datasets/tmdb/tmdb-movie-metadata?select=tmdb_5000_movies.csv)**\n",
    "\n",
    "### 참고 자료\n",
    "- https://www.kaggle.com/rounakbanik/movie-recommender-systems\n",
    "- https://www.kaggle.com/ibtesama/getting-started-with-a-movie-recommendation-system\n"
   ]
  },
  {
   "cell_type": "markdown",
   "metadata": {
    "id": "R9ibRRiT-yLj"
   },
   "source": [
    "## 데이터 전처리"
   ]
  },
  {
   "cell_type": "code",
   "execution_count": 1,
   "metadata": {
    "executionInfo": {
     "elapsed": 454,
     "status": "ok",
     "timestamp": 1649510584034,
     "user": {
      "displayName": "DK P",
      "userId": "03785239656050005701"
     },
     "user_tz": -540
    },
    "id": "BG8WbDHmJTyF"
   },
   "outputs": [],
   "source": [
    "import pandas as pd\n",
    "import numpy as np\n",
    "import matplotlib.pyplot as plt\n",
    "import seaborn as sns\n",
    "from ast import literal_eval\n",
    "from sklearn.feature_extraction.text import TfidfVectorizer\n",
    "from sklearn.feature_extraction.text import CountVectorizer\n",
    "from sklearn.metrics.pairwise import cosine_similarity"
   ]
  },
  {
   "cell_type": "code",
   "execution_count": 2,
   "metadata": {
    "colab": {
     "base_uri": "https://localhost:8080/"
    },
    "executionInfo": {
     "elapsed": 2477,
     "status": "ok",
     "timestamp": 1649510586509,
     "user": {
      "displayName": "DK P",
      "userId": "03785239656050005701"
     },
     "user_tz": -540
    },
    "id": "vytmZe8VVtZ3",
    "outputId": "46441a12-db01-4a53-e4e9-5e6b93faa500"
   },
   "outputs": [
    {
     "name": "stdout",
     "output_type": "stream",
     "text": [
      "Drive already mounted at /content/drive; to attempt to forcibly remount, call drive.mount(\"/content/drive\", force_remount=True).\n",
      "'01. 추천 시스템 - 콘텐츠 기반(content based filtering).ipynb'\n",
      " keywords.csv\n",
      " movies_metadata.csv\n",
      " pre_tmdb_5000_movies.csv\n",
      " tmdb_5000_movies.csv\n"
     ]
    }
   ],
   "source": [
    "# # 구글 드라이브 연동\n",
    "# from google.colab import drive\n",
    "# drive.mount('/content/drive')\n",
    "\n",
    "# # 드라이브 파일 목록 확인\n",
    "# !ls drive/'My Drive'/'Colab Notebooks'/'추천시스템'/"
   ]
  },
  {
   "cell_type": "code",
   "execution_count": 2,
   "metadata": {
    "executionInfo": {
     "elapsed": 19,
     "status": "ok",
     "timestamp": 1649510586510,
     "user": {
      "displayName": "DK P",
      "userId": "03785239656050005701"
     },
     "user_tz": -540
    },
    "id": "8q8yCPOhONQf"
   },
   "outputs": [],
   "source": [
    "# 데이터 로드\n",
    "# data = pd.read_csv('drive/My Drive/Colab Notebooks/추천시스템/tmdb_5000_movies.csv')\n",
    "data = pd.read_csv('./dataset/tmdb_5000_movies.csv')"
   ]
  },
  {
   "cell_type": "code",
   "execution_count": 3,
   "metadata": {
    "colab": {
     "base_uri": "https://localhost:8080/",
     "height": 231
    },
    "executionInfo": {
     "elapsed": 18,
     "status": "ok",
     "timestamp": 1649510586510,
     "user": {
      "displayName": "DK P",
      "userId": "03785239656050005701"
     },
     "user_tz": -540
    },
    "id": "xDO4sDqpWhok",
    "outputId": "1df7911a-b36d-4c73-f12a-c96cc299a7c4"
   },
   "outputs": [
    {
     "data": {
      "text/html": [
       "<div>\n",
       "<style scoped>\n",
       "    .dataframe tbody tr th:only-of-type {\n",
       "        vertical-align: middle;\n",
       "    }\n",
       "\n",
       "    .dataframe tbody tr th {\n",
       "        vertical-align: top;\n",
       "    }\n",
       "\n",
       "    .dataframe thead th {\n",
       "        text-align: right;\n",
       "    }\n",
       "</style>\n",
       "<table border=\"1\" class=\"dataframe\">\n",
       "  <thead>\n",
       "    <tr style=\"text-align: right;\">\n",
       "      <th></th>\n",
       "      <th>budget</th>\n",
       "      <th>genres</th>\n",
       "      <th>homepage</th>\n",
       "      <th>id</th>\n",
       "      <th>keywords</th>\n",
       "      <th>original_language</th>\n",
       "      <th>original_title</th>\n",
       "      <th>overview</th>\n",
       "      <th>popularity</th>\n",
       "      <th>production_companies</th>\n",
       "      <th>production_countries</th>\n",
       "      <th>release_date</th>\n",
       "      <th>revenue</th>\n",
       "      <th>runtime</th>\n",
       "      <th>spoken_languages</th>\n",
       "      <th>status</th>\n",
       "      <th>tagline</th>\n",
       "      <th>title</th>\n",
       "      <th>vote_average</th>\n",
       "      <th>vote_count</th>\n",
       "    </tr>\n",
       "  </thead>\n",
       "  <tbody>\n",
       "    <tr>\n",
       "      <th>0</th>\n",
       "      <td>237000000</td>\n",
       "      <td>[{\"id\": 28, \"name\": \"Action\"}, {\"id\": 12, \"nam...</td>\n",
       "      <td>http://www.avatarmovie.com/</td>\n",
       "      <td>19995</td>\n",
       "      <td>[{\"id\": 1463, \"name\": \"culture clash\"}, {\"id\":...</td>\n",
       "      <td>en</td>\n",
       "      <td>Avatar</td>\n",
       "      <td>In the 22nd century, a paraplegic Marine is di...</td>\n",
       "      <td>150.437577</td>\n",
       "      <td>[{\"name\": \"Ingenious Film Partners\", \"id\": 289...</td>\n",
       "      <td>[{\"iso_3166_1\": \"US\", \"name\": \"United States o...</td>\n",
       "      <td>2009-12-10</td>\n",
       "      <td>2787965087</td>\n",
       "      <td>162.0</td>\n",
       "      <td>[{\"iso_639_1\": \"en\", \"name\": \"English\"}, {\"iso...</td>\n",
       "      <td>Released</td>\n",
       "      <td>Enter the World of Pandora.</td>\n",
       "      <td>Avatar</td>\n",
       "      <td>7.2</td>\n",
       "      <td>11800</td>\n",
       "    </tr>\n",
       "  </tbody>\n",
       "</table>\n",
       "</div>"
      ],
      "text/plain": [
       "      budget                                             genres  \\\n",
       "0  237000000  [{\"id\": 28, \"name\": \"Action\"}, {\"id\": 12, \"nam...   \n",
       "\n",
       "                      homepage     id  \\\n",
       "0  http://www.avatarmovie.com/  19995   \n",
       "\n",
       "                                            keywords original_language  \\\n",
       "0  [{\"id\": 1463, \"name\": \"culture clash\"}, {\"id\":...                en   \n",
       "\n",
       "  original_title                                           overview  \\\n",
       "0         Avatar  In the 22nd century, a paraplegic Marine is di...   \n",
       "\n",
       "   popularity                               production_companies  \\\n",
       "0  150.437577  [{\"name\": \"Ingenious Film Partners\", \"id\": 289...   \n",
       "\n",
       "                                production_countries release_date     revenue  \\\n",
       "0  [{\"iso_3166_1\": \"US\", \"name\": \"United States o...   2009-12-10  2787965087   \n",
       "\n",
       "   runtime                                   spoken_languages    status  \\\n",
       "0    162.0  [{\"iso_639_1\": \"en\", \"name\": \"English\"}, {\"iso...  Released   \n",
       "\n",
       "                       tagline   title  vote_average  vote_count  \n",
       "0  Enter the World of Pandora.  Avatar           7.2       11800  "
      ]
     },
     "execution_count": 3,
     "metadata": {},
     "output_type": "execute_result"
    }
   ],
   "source": [
    "data.head(1)"
   ]
  },
  {
   "cell_type": "code",
   "execution_count": 4,
   "metadata": {
    "colab": {
     "base_uri": "https://localhost:8080/"
    },
    "executionInfo": {
     "elapsed": 17,
     "status": "ok",
     "timestamp": 1649510586510,
     "user": {
      "displayName": "DK P",
      "userId": "03785239656050005701"
     },
     "user_tz": -540
    },
    "id": "1_QIMEaDVUmS",
    "outputId": "feed5016-109e-4d61-c3b2-5ba4a479dc1b"
   },
   "outputs": [
    {
     "data": {
      "text/plain": [
       "(4803, 20)"
      ]
     },
     "execution_count": 4,
     "metadata": {},
     "output_type": "execute_result"
    }
   ],
   "source": [
    "data.shape"
   ]
  },
  {
   "cell_type": "markdown",
   "metadata": {
    "id": "v3BgQG7dWz5-"
   },
   "source": [
    "데이터 셋에 대한 설명은 위의 데이터 셋 링크 참조\n",
    "\n",
    "실험에 사용할 컬럼은 아래와 같다.\n",
    "\n",
    "- genres : 영화 장르\n",
    "- keywords : 영화의 키워드\n",
    "- original_language : 영화 언어\n",
    "- title : 제목\n",
    "- vote_average : 평점 평균\n",
    "- vote_count : 평점 카운트\n",
    "- popularity : 인기도\n",
    "- overview : 개요 설명"
   ]
  },
  {
   "cell_type": "code",
   "execution_count": 5,
   "metadata": {
    "executionInfo": {
     "elapsed": 14,
     "status": "ok",
     "timestamp": 1649510586510,
     "user": {
      "displayName": "DK P",
      "userId": "03785239656050005701"
     },
     "user_tz": -540
    },
    "id": "LY7Bv7wLW0g8"
   },
   "outputs": [],
   "source": [
    "# 사용할 컬럼만 뽑기\n",
    "# vote_average는 vote 수가 적은데 평점이 높으면 높게 나옴 즉, vote가 많을수록 불리하다고 예측할 수 있음\n",
    "\n",
    "data = data[['id','genres', 'vote_average', 'vote_count','popularity','title',  'keywords', 'overview']]"
   ]
  },
  {
   "cell_type": "markdown",
   "metadata": {
    "id": "PHODeVMqW05Q"
   },
   "source": [
    "위와 같은 문제점을 처리하기 위해 imdb에서 처리한 방법이 존재함.\n",
    "\n",
    "해당 이슈는 (https://www.quora.com/How-does-IMDbs-rating-system-work)에서 확인할 수 있다.\n",
    "\n",
    "![image.png](https://camo.githubusercontent.com/c518f092cd890ff82aa0187d7b787bd812947247f6134969ec6fc0e767e55071/68747470733a2f2f757365722d696d616765732e67697468756275736572636f6e74656e742e636f6d2f32343633343035342f37313737343437302d64313437306338302d326662322d313165612d386131652d6161303138646436643235612e4a5047)\n",
    "\n",
    "- r : 개별 영화 평점\n",
    "- v : 개별 영화에 평점을 투표한 횟수\n",
    "- m : 250위 안에 들어야 하는 최소 투표 (이건 실험자의 재량? 느낌)\n",
    "- c : 전체 영화에 대한 평균 평점\n",
    "\n",
    "여기서 m을 **500위로 가정하고 진행해보자**\n",
    "\n",
    "m이 500위 안에 들기 위해서 vote_count가 상위 몇 %인지 확인은 quantile(사분위)로 확인할 수 있음."
   ]
  },
  {
   "cell_type": "code",
   "execution_count": 6,
   "metadata": {
    "colab": {
     "base_uri": "https://localhost:8080/"
    },
    "executionInfo": {
     "elapsed": 15,
     "status": "ok",
     "timestamp": 1649510586511,
     "user": {
      "displayName": "DK P",
      "userId": "03785239656050005701"
     },
     "user_tz": -540
    },
    "id": "qexdp21JXosd",
    "outputId": "5d66410e-7be0-437b-aadf-66d8688ba611"
   },
   "outputs": [
    {
     "data": {
      "text/plain": [
       "1838.4000000000015"
      ]
     },
     "execution_count": 6,
     "metadata": {},
     "output_type": "execute_result"
    }
   ],
   "source": [
    "tmp_m = data['vote_count'].quantile(0.9)\n",
    "tmp_m"
   ]
  },
  {
   "cell_type": "code",
   "execution_count": 7,
   "metadata": {
    "colab": {
     "base_uri": "https://localhost:8080/"
    },
    "executionInfo": {
     "elapsed": 13,
     "status": "ok",
     "timestamp": 1649510586511,
     "user": {
      "displayName": "DK P",
      "userId": "03785239656050005701"
     },
     "user_tz": -540
    },
    "id": "zaVJOd_FYVSi",
    "outputId": "c7216ab7-7fae-4386-ddd7-bf7462951829"
   },
   "outputs": [
    {
     "data": {
      "text/plain": [
       "(481, 8)"
      ]
     },
     "execution_count": 7,
     "metadata": {},
     "output_type": "execute_result"
    }
   ],
   "source": [
    "# 상위 90%로 했을 때 481위 안에 들어가는걸 확인할 수 있으니 90%로 가정하고 진행\n",
    "\n",
    "tmp_data = data.copy().loc[data['vote_count'] >= tmp_m]\n",
    "tmp_data.shape"
   ]
  },
  {
   "cell_type": "code",
   "execution_count": 8,
   "metadata": {
    "colab": {
     "base_uri": "https://localhost:8080/",
     "height": 424
    },
    "executionInfo": {
     "elapsed": 12,
     "status": "ok",
     "timestamp": 1649510586511,
     "user": {
      "displayName": "DK P",
      "userId": "03785239656050005701"
     },
     "user_tz": -540
    },
    "id": "pFHoMAVRYbYs",
    "outputId": "0cdc6339-0a60-4d6e-c918-e52587210f83"
   },
   "outputs": [
    {
     "data": {
      "text/html": [
       "<div>\n",
       "<style scoped>\n",
       "    .dataframe tbody tr th:only-of-type {\n",
       "        vertical-align: middle;\n",
       "    }\n",
       "\n",
       "    .dataframe tbody tr th {\n",
       "        vertical-align: top;\n",
       "    }\n",
       "\n",
       "    .dataframe thead th {\n",
       "        text-align: right;\n",
       "    }\n",
       "</style>\n",
       "<table border=\"1\" class=\"dataframe\">\n",
       "  <thead>\n",
       "    <tr style=\"text-align: right;\">\n",
       "      <th></th>\n",
       "      <th>id</th>\n",
       "      <th>genres</th>\n",
       "      <th>vote_average</th>\n",
       "      <th>vote_count</th>\n",
       "      <th>popularity</th>\n",
       "      <th>title</th>\n",
       "      <th>keywords</th>\n",
       "      <th>overview</th>\n",
       "    </tr>\n",
       "  </thead>\n",
       "  <tbody>\n",
       "    <tr>\n",
       "      <th>0</th>\n",
       "      <td>19995</td>\n",
       "      <td>[{\"id\": 28, \"name\": \"Action\"}, {\"id\": 12, \"nam...</td>\n",
       "      <td>7.2</td>\n",
       "      <td>11800</td>\n",
       "      <td>150.437577</td>\n",
       "      <td>Avatar</td>\n",
       "      <td>[{\"id\": 1463, \"name\": \"culture clash\"}, {\"id\":...</td>\n",
       "      <td>In the 22nd century, a paraplegic Marine is di...</td>\n",
       "    </tr>\n",
       "    <tr>\n",
       "      <th>1</th>\n",
       "      <td>285</td>\n",
       "      <td>[{\"id\": 12, \"name\": \"Adventure\"}, {\"id\": 14, \"...</td>\n",
       "      <td>6.9</td>\n",
       "      <td>4500</td>\n",
       "      <td>139.082615</td>\n",
       "      <td>Pirates of the Caribbean: At World's End</td>\n",
       "      <td>[{\"id\": 270, \"name\": \"ocean\"}, {\"id\": 726, \"na...</td>\n",
       "      <td>Captain Barbossa, long believed to be dead, ha...</td>\n",
       "    </tr>\n",
       "    <tr>\n",
       "      <th>2</th>\n",
       "      <td>206647</td>\n",
       "      <td>[{\"id\": 28, \"name\": \"Action\"}, {\"id\": 12, \"nam...</td>\n",
       "      <td>6.3</td>\n",
       "      <td>4466</td>\n",
       "      <td>107.376788</td>\n",
       "      <td>Spectre</td>\n",
       "      <td>[{\"id\": 470, \"name\": \"spy\"}, {\"id\": 818, \"name...</td>\n",
       "      <td>A cryptic message from Bond’s past sends him o...</td>\n",
       "    </tr>\n",
       "    <tr>\n",
       "      <th>3</th>\n",
       "      <td>49026</td>\n",
       "      <td>[{\"id\": 28, \"name\": \"Action\"}, {\"id\": 80, \"nam...</td>\n",
       "      <td>7.6</td>\n",
       "      <td>9106</td>\n",
       "      <td>112.312950</td>\n",
       "      <td>The Dark Knight Rises</td>\n",
       "      <td>[{\"id\": 849, \"name\": \"dc comics\"}, {\"id\": 853,...</td>\n",
       "      <td>Following the death of District Attorney Harve...</td>\n",
       "    </tr>\n",
       "    <tr>\n",
       "      <th>4</th>\n",
       "      <td>49529</td>\n",
       "      <td>[{\"id\": 28, \"name\": \"Action\"}, {\"id\": 12, \"nam...</td>\n",
       "      <td>6.1</td>\n",
       "      <td>2124</td>\n",
       "      <td>43.926995</td>\n",
       "      <td>John Carter</td>\n",
       "      <td>[{\"id\": 818, \"name\": \"based on novel\"}, {\"id\":...</td>\n",
       "      <td>John Carter is a war-weary, former military ca...</td>\n",
       "    </tr>\n",
       "  </tbody>\n",
       "</table>\n",
       "</div>"
      ],
      "text/plain": [
       "       id                                             genres  vote_average  \\\n",
       "0   19995  [{\"id\": 28, \"name\": \"Action\"}, {\"id\": 12, \"nam...           7.2   \n",
       "1     285  [{\"id\": 12, \"name\": \"Adventure\"}, {\"id\": 14, \"...           6.9   \n",
       "2  206647  [{\"id\": 28, \"name\": \"Action\"}, {\"id\": 12, \"nam...           6.3   \n",
       "3   49026  [{\"id\": 28, \"name\": \"Action\"}, {\"id\": 80, \"nam...           7.6   \n",
       "4   49529  [{\"id\": 28, \"name\": \"Action\"}, {\"id\": 12, \"nam...           6.1   \n",
       "\n",
       "   vote_count  popularity                                     title  \\\n",
       "0       11800  150.437577                                    Avatar   \n",
       "1        4500  139.082615  Pirates of the Caribbean: At World's End   \n",
       "2        4466  107.376788                                   Spectre   \n",
       "3        9106  112.312950                     The Dark Knight Rises   \n",
       "4        2124   43.926995                               John Carter   \n",
       "\n",
       "                                            keywords  \\\n",
       "0  [{\"id\": 1463, \"name\": \"culture clash\"}, {\"id\":...   \n",
       "1  [{\"id\": 270, \"name\": \"ocean\"}, {\"id\": 726, \"na...   \n",
       "2  [{\"id\": 470, \"name\": \"spy\"}, {\"id\": 818, \"name...   \n",
       "3  [{\"id\": 849, \"name\": \"dc comics\"}, {\"id\": 853,...   \n",
       "4  [{\"id\": 818, \"name\": \"based on novel\"}, {\"id\":...   \n",
       "\n",
       "                                            overview  \n",
       "0  In the 22nd century, a paraplegic Marine is di...  \n",
       "1  Captain Barbossa, long believed to be dead, ha...  \n",
       "2  A cryptic message from Bond’s past sends him o...  \n",
       "3  Following the death of District Attorney Harve...  \n",
       "4  John Carter is a war-weary, former military ca...  "
      ]
     },
     "execution_count": 8,
     "metadata": {},
     "output_type": "execute_result"
    }
   ],
   "source": [
    "m = data['vote_count'].quantile(0.9)\n",
    "data = data.loc[data['vote_count'] >= m]\n",
    "data.head()"
   ]
  },
  {
   "cell_type": "code",
   "execution_count": 9,
   "metadata": {
    "executionInfo": {
     "elapsed": 12,
     "status": "ok",
     "timestamp": 1649510586511,
     "user": {
      "displayName": "DK P",
      "userId": "03785239656050005701"
     },
     "user_tz": -540
    },
    "id": "XiljuX1EYuu2"
   },
   "outputs": [],
   "source": [
    "C = data['vote_average'].mean()"
   ]
  },
  {
   "cell_type": "code",
   "execution_count": 10,
   "metadata": {
    "colab": {
     "base_uri": "https://localhost:8080/"
    },
    "executionInfo": {
     "elapsed": 12,
     "status": "ok",
     "timestamp": 1649510586512,
     "user": {
      "displayName": "DK P",
      "userId": "03785239656050005701"
     },
     "user_tz": -540
    },
    "id": "a6kAD5JsY0GN",
    "outputId": "fabc68da-6225-4ec0-f4cb-497fe3873d99"
   },
   "outputs": [
    {
     "name": "stdout",
     "output_type": "stream",
     "text": [
      "6.962993762993763\n",
      "1838.4000000000015\n"
     ]
    }
   ],
   "source": [
    "print(C)\n",
    "print(m)"
   ]
  },
  {
   "cell_type": "code",
   "execution_count": 11,
   "metadata": {
    "executionInfo": {
     "elapsed": 11,
     "status": "ok",
     "timestamp": 1649510586512,
     "user": {
      "displayName": "DK P",
      "userId": "03785239656050005701"
     },
     "user_tz": -540
    },
    "id": "on9i1q-MY1o1"
   },
   "outputs": [],
   "source": [
    "def weighted_rating(x, m=m, C=C):\n",
    "    v = x['vote_count']\n",
    "    R = x['vote_average']\n",
    "    \n",
    "    return ( v / (v+m) * R ) + (m / (m + v) * C)"
   ]
  },
  {
   "cell_type": "code",
   "execution_count": 12,
   "metadata": {
    "colab": {
     "base_uri": "https://localhost:8080/",
     "height": 620
    },
    "executionInfo": {
     "elapsed": 11,
     "status": "ok",
     "timestamp": 1649510586512,
     "user": {
      "displayName": "DK P",
      "userId": "03785239656050005701"
     },
     "user_tz": -540
    },
    "id": "ZBSsF26jY5ok",
    "outputId": "2a4b4575-df15-4bd4-e18e-a5ad5833dbf6"
   },
   "outputs": [
    {
     "data": {
      "text/html": [
       "<div>\n",
       "<style scoped>\n",
       "    .dataframe tbody tr th:only-of-type {\n",
       "        vertical-align: middle;\n",
       "    }\n",
       "\n",
       "    .dataframe tbody tr th {\n",
       "        vertical-align: top;\n",
       "    }\n",
       "\n",
       "    .dataframe thead th {\n",
       "        text-align: right;\n",
       "    }\n",
       "</style>\n",
       "<table border=\"1\" class=\"dataframe\">\n",
       "  <thead>\n",
       "    <tr style=\"text-align: right;\">\n",
       "      <th></th>\n",
       "      <th>id</th>\n",
       "      <th>genres</th>\n",
       "      <th>vote_average</th>\n",
       "      <th>vote_count</th>\n",
       "      <th>popularity</th>\n",
       "      <th>title</th>\n",
       "      <th>keywords</th>\n",
       "      <th>overview</th>\n",
       "      <th>score</th>\n",
       "    </tr>\n",
       "  </thead>\n",
       "  <tbody>\n",
       "    <tr>\n",
       "      <th>0</th>\n",
       "      <td>19995</td>\n",
       "      <td>[{\"id\": 28, \"name\": \"Action\"}, {\"id\": 12, \"nam...</td>\n",
       "      <td>7.2</td>\n",
       "      <td>11800</td>\n",
       "      <td>150.437577</td>\n",
       "      <td>Avatar</td>\n",
       "      <td>[{\"id\": 1463, \"name\": \"culture clash\"}, {\"id\":...</td>\n",
       "      <td>In the 22nd century, a paraplegic Marine is di...</td>\n",
       "      <td>7.168053</td>\n",
       "    </tr>\n",
       "    <tr>\n",
       "      <th>1</th>\n",
       "      <td>285</td>\n",
       "      <td>[{\"id\": 12, \"name\": \"Adventure\"}, {\"id\": 14, \"...</td>\n",
       "      <td>6.9</td>\n",
       "      <td>4500</td>\n",
       "      <td>139.082615</td>\n",
       "      <td>Pirates of the Caribbean: At World's End</td>\n",
       "      <td>[{\"id\": 270, \"name\": \"ocean\"}, {\"id\": 726, \"na...</td>\n",
       "      <td>Captain Barbossa, long believed to be dead, ha...</td>\n",
       "      <td>6.918271</td>\n",
       "    </tr>\n",
       "    <tr>\n",
       "      <th>2</th>\n",
       "      <td>206647</td>\n",
       "      <td>[{\"id\": 28, \"name\": \"Action\"}, {\"id\": 12, \"nam...</td>\n",
       "      <td>6.3</td>\n",
       "      <td>4466</td>\n",
       "      <td>107.376788</td>\n",
       "      <td>Spectre</td>\n",
       "      <td>[{\"id\": 470, \"name\": \"spy\"}, {\"id\": 818, \"name...</td>\n",
       "      <td>A cryptic message from Bond’s past sends him o...</td>\n",
       "      <td>6.493333</td>\n",
       "    </tr>\n",
       "    <tr>\n",
       "      <th>3</th>\n",
       "      <td>49026</td>\n",
       "      <td>[{\"id\": 28, \"name\": \"Action\"}, {\"id\": 80, \"nam...</td>\n",
       "      <td>7.6</td>\n",
       "      <td>9106</td>\n",
       "      <td>112.312950</td>\n",
       "      <td>The Dark Knight Rises</td>\n",
       "      <td>[{\"id\": 849, \"name\": \"dc comics\"}, {\"id\": 853,...</td>\n",
       "      <td>Following the death of District Attorney Harve...</td>\n",
       "      <td>7.492998</td>\n",
       "    </tr>\n",
       "    <tr>\n",
       "      <th>4</th>\n",
       "      <td>49529</td>\n",
       "      <td>[{\"id\": 28, \"name\": \"Action\"}, {\"id\": 12, \"nam...</td>\n",
       "      <td>6.1</td>\n",
       "      <td>2124</td>\n",
       "      <td>43.926995</td>\n",
       "      <td>John Carter</td>\n",
       "      <td>[{\"id\": 818, \"name\": \"based on novel\"}, {\"id\":...</td>\n",
       "      <td>John Carter is a war-weary, former military ca...</td>\n",
       "      <td>6.500396</td>\n",
       "    </tr>\n",
       "  </tbody>\n",
       "</table>\n",
       "</div>"
      ],
      "text/plain": [
       "       id                                             genres  vote_average  \\\n",
       "0   19995  [{\"id\": 28, \"name\": \"Action\"}, {\"id\": 12, \"nam...           7.2   \n",
       "1     285  [{\"id\": 12, \"name\": \"Adventure\"}, {\"id\": 14, \"...           6.9   \n",
       "2  206647  [{\"id\": 28, \"name\": \"Action\"}, {\"id\": 12, \"nam...           6.3   \n",
       "3   49026  [{\"id\": 28, \"name\": \"Action\"}, {\"id\": 80, \"nam...           7.6   \n",
       "4   49529  [{\"id\": 28, \"name\": \"Action\"}, {\"id\": 12, \"nam...           6.1   \n",
       "\n",
       "   vote_count  popularity                                     title  \\\n",
       "0       11800  150.437577                                    Avatar   \n",
       "1        4500  139.082615  Pirates of the Caribbean: At World's End   \n",
       "2        4466  107.376788                                   Spectre   \n",
       "3        9106  112.312950                     The Dark Knight Rises   \n",
       "4        2124   43.926995                               John Carter   \n",
       "\n",
       "                                            keywords  \\\n",
       "0  [{\"id\": 1463, \"name\": \"culture clash\"}, {\"id\":...   \n",
       "1  [{\"id\": 270, \"name\": \"ocean\"}, {\"id\": 726, \"na...   \n",
       "2  [{\"id\": 470, \"name\": \"spy\"}, {\"id\": 818, \"name...   \n",
       "3  [{\"id\": 849, \"name\": \"dc comics\"}, {\"id\": 853,...   \n",
       "4  [{\"id\": 818, \"name\": \"based on novel\"}, {\"id\":...   \n",
       "\n",
       "                                            overview     score  \n",
       "0  In the 22nd century, a paraplegic Marine is di...  7.168053  \n",
       "1  Captain Barbossa, long believed to be dead, ha...  6.918271  \n",
       "2  A cryptic message from Bond’s past sends him o...  6.493333  \n",
       "3  Following the death of District Attorney Harve...  7.492998  \n",
       "4  John Carter is a war-weary, former military ca...  6.500396  "
      ]
     },
     "execution_count": 12,
     "metadata": {},
     "output_type": "execute_result"
    }
   ],
   "source": [
    "data['score'] = data.apply(weighted_rating, axis = 1)\n",
    "data.head()"
   ]
  },
  {
   "cell_type": "markdown",
   "metadata": {
    "id": "_vqM8xPSY718"
   },
   "source": [
    "추가로, **['genres', 'keywords'] 컬럼**을 보면 list 내부에 dict가 있는 구조로 되어있다.\n",
    "\n",
    "이렇게 표현된 이유는 하나의 영화가 하나의 장르에만 속하지 않고, 하나의 키워드만 있지 않기 때문이라고 함.\n",
    "\n",
    "그런데 문제점이 지금 내부에는 문자열로 들어가 있기 때문에 **ast 패키지**를 사용해서 풀어줘야됨.\n",
    "\n",
    "- ast 패키지에 literal_eval을 사용하면 list와 dictionary 형태로 바뀌게 됨"
   ]
  },
  {
   "cell_type": "code",
   "execution_count": 13,
   "metadata": {
    "colab": {
     "base_uri": "https://localhost:8080/",
     "height": 112
    },
    "executionInfo": {
     "elapsed": 9,
     "status": "ok",
     "timestamp": 1649510586512,
     "user": {
      "displayName": "DK P",
      "userId": "03785239656050005701"
     },
     "user_tz": -540
    },
    "id": "2Ei70wyLW1BL",
    "outputId": "290c0839-9874-485f-d5b5-0019076ba4a0"
   },
   "outputs": [
    {
     "data": {
      "text/html": [
       "<div>\n",
       "<style scoped>\n",
       "    .dataframe tbody tr th:only-of-type {\n",
       "        vertical-align: middle;\n",
       "    }\n",
       "\n",
       "    .dataframe tbody tr th {\n",
       "        vertical-align: top;\n",
       "    }\n",
       "\n",
       "    .dataframe thead th {\n",
       "        text-align: right;\n",
       "    }\n",
       "</style>\n",
       "<table border=\"1\" class=\"dataframe\">\n",
       "  <thead>\n",
       "    <tr style=\"text-align: right;\">\n",
       "      <th></th>\n",
       "      <th>genres</th>\n",
       "      <th>keywords</th>\n",
       "    </tr>\n",
       "  </thead>\n",
       "  <tbody>\n",
       "    <tr>\n",
       "      <th>0</th>\n",
       "      <td>[{\"id\": 28, \"name\": \"Action\"}, {\"id\": 12, \"nam...</td>\n",
       "      <td>[{\"id\": 1463, \"name\": \"culture clash\"}, {\"id\":...</td>\n",
       "    </tr>\n",
       "    <tr>\n",
       "      <th>1</th>\n",
       "      <td>[{\"id\": 12, \"name\": \"Adventure\"}, {\"id\": 14, \"...</td>\n",
       "      <td>[{\"id\": 270, \"name\": \"ocean\"}, {\"id\": 726, \"na...</td>\n",
       "    </tr>\n",
       "  </tbody>\n",
       "</table>\n",
       "</div>"
      ],
      "text/plain": [
       "                                              genres  \\\n",
       "0  [{\"id\": 28, \"name\": \"Action\"}, {\"id\": 12, \"nam...   \n",
       "1  [{\"id\": 12, \"name\": \"Adventure\"}, {\"id\": 14, \"...   \n",
       "\n",
       "                                            keywords  \n",
       "0  [{\"id\": 1463, \"name\": \"culture clash\"}, {\"id\":...  \n",
       "1  [{\"id\": 270, \"name\": \"ocean\"}, {\"id\": 726, \"na...  "
      ]
     },
     "execution_count": 13,
     "metadata": {},
     "output_type": "execute_result"
    }
   ],
   "source": [
    "data[['genres', 'keywords']].head(2)"
   ]
  },
  {
   "cell_type": "code",
   "execution_count": 14,
   "metadata": {
    "colab": {
     "base_uri": "https://localhost:8080/",
     "height": 379
    },
    "executionInfo": {
     "elapsed": 10,
     "status": "ok",
     "timestamp": 1649510587122,
     "user": {
      "displayName": "DK P",
      "userId": "03785239656050005701"
     },
     "user_tz": -540
    },
    "id": "Tzo8jsKzZ6Fe",
    "outputId": "35ac971a-cff4-4969-bfd9-0c449090fa9d"
   },
   "outputs": [
    {
     "data": {
      "text/html": [
       "<div>\n",
       "<style scoped>\n",
       "    .dataframe tbody tr th:only-of-type {\n",
       "        vertical-align: middle;\n",
       "    }\n",
       "\n",
       "    .dataframe tbody tr th {\n",
       "        vertical-align: top;\n",
       "    }\n",
       "\n",
       "    .dataframe thead th {\n",
       "        text-align: right;\n",
       "    }\n",
       "</style>\n",
       "<table border=\"1\" class=\"dataframe\">\n",
       "  <thead>\n",
       "    <tr style=\"text-align: right;\">\n",
       "      <th></th>\n",
       "      <th>genres</th>\n",
       "      <th>keywords</th>\n",
       "    </tr>\n",
       "  </thead>\n",
       "  <tbody>\n",
       "    <tr>\n",
       "      <th>0</th>\n",
       "      <td>[{'id': 28, 'name': 'Action'}, {'id': 12, 'nam...</td>\n",
       "      <td>[{'id': 1463, 'name': 'culture clash'}, {'id':...</td>\n",
       "    </tr>\n",
       "    <tr>\n",
       "      <th>1</th>\n",
       "      <td>[{'id': 12, 'name': 'Adventure'}, {'id': 14, '...</td>\n",
       "      <td>[{'id': 270, 'name': 'ocean'}, {'id': 726, 'na...</td>\n",
       "    </tr>\n",
       "    <tr>\n",
       "      <th>2</th>\n",
       "      <td>[{'id': 28, 'name': 'Action'}, {'id': 12, 'nam...</td>\n",
       "      <td>[{'id': 470, 'name': 'spy'}, {'id': 818, 'name...</td>\n",
       "    </tr>\n",
       "  </tbody>\n",
       "</table>\n",
       "</div>"
      ],
      "text/plain": [
       "                                              genres  \\\n",
       "0  [{'id': 28, 'name': 'Action'}, {'id': 12, 'nam...   \n",
       "1  [{'id': 12, 'name': 'Adventure'}, {'id': 14, '...   \n",
       "2  [{'id': 28, 'name': 'Action'}, {'id': 12, 'nam...   \n",
       "\n",
       "                                            keywords  \n",
       "0  [{'id': 1463, 'name': 'culture clash'}, {'id':...  \n",
       "1  [{'id': 270, 'name': 'ocean'}, {'id': 726, 'na...  \n",
       "2  [{'id': 470, 'name': 'spy'}, {'id': 818, 'name...  "
      ]
     },
     "execution_count": 14,
     "metadata": {},
     "output_type": "execute_result"
    }
   ],
   "source": [
    "data['genres'] = data['genres'].apply(literal_eval)\n",
    "data['keywords'] = data['keywords'].apply(literal_eval)\n",
    "\n",
    "data[['genres', 'keywords']].head(3)"
   ]
  },
  {
   "cell_type": "markdown",
   "metadata": {
    "id": "TP97zhoqaUPi"
   },
   "source": [
    "id는 실험에 필요없기 때문에 **id를 제거한 후 name만** 뽑아서 사용"
   ]
  },
  {
   "cell_type": "code",
   "execution_count": 15,
   "metadata": {
    "colab": {
     "base_uri": "https://localhost:8080/",
     "height": 544
    },
    "executionInfo": {
     "elapsed": 6,
     "status": "ok",
     "timestamp": 1649510587122,
     "user": {
      "displayName": "DK P",
      "userId": "03785239656050005701"
     },
     "user_tz": -540
    },
    "id": "d4QuXZDvW1E-",
    "outputId": "2ce89ef0-119a-4a03-fdd2-ce8658dde8c2"
   },
   "outputs": [
    {
     "data": {
      "text/html": [
       "<div>\n",
       "<style scoped>\n",
       "    .dataframe tbody tr th:only-of-type {\n",
       "        vertical-align: middle;\n",
       "    }\n",
       "\n",
       "    .dataframe tbody tr th {\n",
       "        vertical-align: top;\n",
       "    }\n",
       "\n",
       "    .dataframe thead th {\n",
       "        text-align: right;\n",
       "    }\n",
       "</style>\n",
       "<table border=\"1\" class=\"dataframe\">\n",
       "  <thead>\n",
       "    <tr style=\"text-align: right;\">\n",
       "      <th></th>\n",
       "      <th>id</th>\n",
       "      <th>genres</th>\n",
       "      <th>vote_average</th>\n",
       "      <th>vote_count</th>\n",
       "      <th>popularity</th>\n",
       "      <th>title</th>\n",
       "      <th>keywords</th>\n",
       "      <th>overview</th>\n",
       "      <th>score</th>\n",
       "    </tr>\n",
       "  </thead>\n",
       "  <tbody>\n",
       "    <tr>\n",
       "      <th>0</th>\n",
       "      <td>19995</td>\n",
       "      <td>Action Adventure Fantasy Science Fiction</td>\n",
       "      <td>7.2</td>\n",
       "      <td>11800</td>\n",
       "      <td>150.437577</td>\n",
       "      <td>Avatar</td>\n",
       "      <td>culture clash future space war space colony so...</td>\n",
       "      <td>In the 22nd century, a paraplegic Marine is di...</td>\n",
       "      <td>7.168053</td>\n",
       "    </tr>\n",
       "    <tr>\n",
       "      <th>1</th>\n",
       "      <td>285</td>\n",
       "      <td>Adventure Fantasy Action</td>\n",
       "      <td>6.9</td>\n",
       "      <td>4500</td>\n",
       "      <td>139.082615</td>\n",
       "      <td>Pirates of the Caribbean: At World's End</td>\n",
       "      <td>ocean drug abuse exotic island east india trad...</td>\n",
       "      <td>Captain Barbossa, long believed to be dead, ha...</td>\n",
       "      <td>6.918271</td>\n",
       "    </tr>\n",
       "    <tr>\n",
       "      <th>2</th>\n",
       "      <td>206647</td>\n",
       "      <td>Action Adventure Crime</td>\n",
       "      <td>6.3</td>\n",
       "      <td>4466</td>\n",
       "      <td>107.376788</td>\n",
       "      <td>Spectre</td>\n",
       "      <td>spy based on novel secret agent sequel mi6 bri...</td>\n",
       "      <td>A cryptic message from Bond’s past sends him o...</td>\n",
       "      <td>6.493333</td>\n",
       "    </tr>\n",
       "  </tbody>\n",
       "</table>\n",
       "</div>"
      ],
      "text/plain": [
       "       id                                    genres  vote_average  vote_count  \\\n",
       "0   19995  Action Adventure Fantasy Science Fiction           7.2       11800   \n",
       "1     285                  Adventure Fantasy Action           6.9        4500   \n",
       "2  206647                    Action Adventure Crime           6.3        4466   \n",
       "\n",
       "   popularity                                     title  \\\n",
       "0  150.437577                                    Avatar   \n",
       "1  139.082615  Pirates of the Caribbean: At World's End   \n",
       "2  107.376788                                   Spectre   \n",
       "\n",
       "                                            keywords  \\\n",
       "0  culture clash future space war space colony so...   \n",
       "1  ocean drug abuse exotic island east india trad...   \n",
       "2  spy based on novel secret agent sequel mi6 bri...   \n",
       "\n",
       "                                            overview     score  \n",
       "0  In the 22nd century, a paraplegic Marine is di...  7.168053  \n",
       "1  Captain Barbossa, long believed to be dead, ha...  6.918271  \n",
       "2  A cryptic message from Bond’s past sends him o...  6.493333  "
      ]
     },
     "execution_count": 15,
     "metadata": {},
     "output_type": "execute_result"
    }
   ],
   "source": [
    "data['genres'] = data['genres'].apply(lambda x : [d['name'] for d in x]).apply(lambda x : \" \".join(x))\n",
    "data['keywords'] = data['keywords'].apply(lambda x : [d['name'] for d in x]).apply(lambda x : \" \".join(x))\n",
    "\n",
    "data.head(3)"
   ]
  },
  {
   "cell_type": "code",
   "execution_count": 16,
   "metadata": {
    "executionInfo": {
     "elapsed": 4,
     "status": "ok",
     "timestamp": 1649510587122,
     "user": {
      "displayName": "DK P",
      "userId": "03785239656050005701"
     },
     "user_tz": -540
    },
    "id": "MvraNVOFaper"
   },
   "outputs": [],
   "source": [
    "# 데이터 저장\n",
    "\n",
    "# data.to_csv('drive/My Drive/Colab Notebooks/추천시스템/pre_tmdb_5000_movies.csv', index=False)\n",
    "data.to_csv('./dataset/pre_tmdb_5000_movies.csv', index=False)"
   ]
  },
  {
   "cell_type": "markdown",
   "metadata": {
    "id": "YrIkEihzbUx1"
   },
   "source": [
    "## 콘텐츠 기반 필터링 추천(Content based filtering)\n",
    "\n",
    "- 콘텐츠 기반 필터링은 **비슷한 콘텐츠를 사용자에게 추천**하는 것을 의미함.\n",
    "\n",
    "- 여기서 비슷한 콘텐츠는 대표적으로 'genres'(장르)가 될 수 있음.\n",
    "\n",
    "- 현재 장르는 **문자열**로 구성되어 있으므로, 문자열을 숫자로 바꾸어 벡터화를 해야함."
   ]
  },
  {
   "cell_type": "markdown",
   "metadata": {
    "id": "2TlwiIkNbVU3"
   },
   "source": [
    "### 사용된 데이터 세트\n",
    "- **The movies Dataset (https://www.kaggle.com/rounakbanik/the-movies-dataset)**\n",
    "\n",
    "- movie_metadata.csv\n",
    "  - 제목과 장르 등의 영화 메타 데이터\n",
    "- keywords.csv\n",
    "  - 영화 id에 따라 keyword 값"
   ]
  },
  {
   "cell_type": "code",
   "execution_count": 18,
   "metadata": {
    "colab": {
     "base_uri": "https://localhost:8080/",
     "height": 217
    },
    "executionInfo": {
     "elapsed": 607,
     "status": "ok",
     "timestamp": 1649510587725,
     "user": {
      "displayName": "DK P",
      "userId": "03785239656050005701"
     },
     "user_tz": -540
    },
    "id": "-Nh8IkbibVZl",
    "outputId": "7de16a8a-c093-43df-b5b6-27792357947f"
   },
   "outputs": [
    {
     "name": "stdout",
     "output_type": "stream",
     "text": [
      "(32269, 4)\n"
     ]
    },
    {
     "name": "stderr",
     "output_type": "stream",
     "text": [
      "C:\\ProgramData\\Anaconda3\\envs\\recommender\\lib\\site-packages\\IPython\\core\\interactiveshell.py:3229: DtypeWarning: Columns (10) have mixed types.Specify dtype option on import or set low_memory=False.\n",
      "  interactivity=interactivity, compiler=compiler, result=result)\n"
     ]
    },
    {
     "data": {
      "text/html": [
       "<div>\n",
       "<style scoped>\n",
       "    .dataframe tbody tr th:only-of-type {\n",
       "        vertical-align: middle;\n",
       "    }\n",
       "\n",
       "    .dataframe tbody tr th {\n",
       "        vertical-align: top;\n",
       "    }\n",
       "\n",
       "    .dataframe thead th {\n",
       "        text-align: right;\n",
       "    }\n",
       "</style>\n",
       "<table border=\"1\" class=\"dataframe\">\n",
       "  <thead>\n",
       "    <tr style=\"text-align: right;\">\n",
       "      <th></th>\n",
       "      <th>id</th>\n",
       "      <th>title</th>\n",
       "      <th>original_language</th>\n",
       "      <th>genres</th>\n",
       "    </tr>\n",
       "  </thead>\n",
       "  <tbody>\n",
       "    <tr>\n",
       "      <th>0</th>\n",
       "      <td>862</td>\n",
       "      <td>Toy Story</td>\n",
       "      <td>en</td>\n",
       "      <td>[{'id': 16, 'name': 'Animation'}, {'id': 35, '...</td>\n",
       "    </tr>\n",
       "    <tr>\n",
       "      <th>1</th>\n",
       "      <td>8844</td>\n",
       "      <td>Jumanji</td>\n",
       "      <td>en</td>\n",
       "      <td>[{'id': 12, 'name': 'Adventure'}, {'id': 14, '...</td>\n",
       "    </tr>\n",
       "    <tr>\n",
       "      <th>2</th>\n",
       "      <td>15602</td>\n",
       "      <td>Grumpier Old Men</td>\n",
       "      <td>en</td>\n",
       "      <td>[{'id': 10749, 'name': 'Romance'}, {'id': 35, ...</td>\n",
       "    </tr>\n",
       "  </tbody>\n",
       "</table>\n",
       "</div>"
      ],
      "text/plain": [
       "      id             title original_language  \\\n",
       "0    862         Toy Story                en   \n",
       "1   8844           Jumanji                en   \n",
       "2  15602  Grumpier Old Men                en   \n",
       "\n",
       "                                              genres  \n",
       "0  [{'id': 16, 'name': 'Animation'}, {'id': 35, '...  \n",
       "1  [{'id': 12, 'name': 'Adventure'}, {'id': 14, '...  \n",
       "2  [{'id': 10749, 'name': 'Romance'}, {'id': 35, ...  "
      ]
     },
     "execution_count": 18,
     "metadata": {},
     "output_type": "execute_result"
    }
   ],
   "source": [
    "# movie_data = pd.read_csv('drive/My Drive/Colab Notebooks/추천시스템/movies_metadata.csv')\n",
    "movie_data = pd.read_csv('./dataset/movies_metadata.csv')\n",
    "movie_data = movie_data.loc[movie_data['original_language'] == 'en', :]\n",
    "movie_data = movie_data[['id', 'title', 'original_language', 'genres']]\n",
    "\n",
    "print(movie_data.shape)\n",
    "movie_data.head(3)"
   ]
  },
  {
   "cell_type": "code",
   "execution_count": 19,
   "metadata": {
    "colab": {
     "base_uri": "https://localhost:8080/",
     "height": 224
    },
    "executionInfo": {
     "elapsed": 8,
     "status": "ok",
     "timestamp": 1649510587725,
     "user": {
      "displayName": "DK P",
      "userId": "03785239656050005701"
     },
     "user_tz": -540
    },
    "id": "gFF8G4Svc1rn",
    "outputId": "dbad0662-6cf6-4b29-88af-76329c6e3441"
   },
   "outputs": [
    {
     "name": "stdout",
     "output_type": "stream",
     "text": [
      "(46419, 2)\n"
     ]
    },
    {
     "data": {
      "text/html": [
       "<div>\n",
       "<style scoped>\n",
       "    .dataframe tbody tr th:only-of-type {\n",
       "        vertical-align: middle;\n",
       "    }\n",
       "\n",
       "    .dataframe tbody tr th {\n",
       "        vertical-align: top;\n",
       "    }\n",
       "\n",
       "    .dataframe thead th {\n",
       "        text-align: right;\n",
       "    }\n",
       "</style>\n",
       "<table border=\"1\" class=\"dataframe\">\n",
       "  <thead>\n",
       "    <tr style=\"text-align: right;\">\n",
       "      <th></th>\n",
       "      <th>id</th>\n",
       "      <th>keywords</th>\n",
       "    </tr>\n",
       "  </thead>\n",
       "  <tbody>\n",
       "    <tr>\n",
       "      <th>0</th>\n",
       "      <td>862</td>\n",
       "      <td>[{'id': 931, 'name': 'jealousy'}, {'id': 4290,...</td>\n",
       "    </tr>\n",
       "    <tr>\n",
       "      <th>1</th>\n",
       "      <td>8844</td>\n",
       "      <td>[{'id': 10090, 'name': 'board game'}, {'id': 1...</td>\n",
       "    </tr>\n",
       "    <tr>\n",
       "      <th>2</th>\n",
       "      <td>15602</td>\n",
       "      <td>[{'id': 1495, 'name': 'fishing'}, {'id': 12392...</td>\n",
       "    </tr>\n",
       "    <tr>\n",
       "      <th>3</th>\n",
       "      <td>31357</td>\n",
       "      <td>[{'id': 818, 'name': 'based on novel'}, {'id':...</td>\n",
       "    </tr>\n",
       "    <tr>\n",
       "      <th>4</th>\n",
       "      <td>11862</td>\n",
       "      <td>[{'id': 1009, 'name': 'baby'}, {'id': 1599, 'n...</td>\n",
       "    </tr>\n",
       "  </tbody>\n",
       "</table>\n",
       "</div>"
      ],
      "text/plain": [
       "      id                                           keywords\n",
       "0    862  [{'id': 931, 'name': 'jealousy'}, {'id': 4290,...\n",
       "1   8844  [{'id': 10090, 'name': 'board game'}, {'id': 1...\n",
       "2  15602  [{'id': 1495, 'name': 'fishing'}, {'id': 12392...\n",
       "3  31357  [{'id': 818, 'name': 'based on novel'}, {'id':...\n",
       "4  11862  [{'id': 1009, 'name': 'baby'}, {'id': 1599, 'n..."
      ]
     },
     "execution_count": 19,
     "metadata": {},
     "output_type": "execute_result"
    }
   ],
   "source": [
    "# movie_keyword = pd.read_csv('drive/My Drive/Colab Notebooks/추천시스템/keywords.csv')\n",
    "movie_keyword = pd.read_csv('./dataset/keywords.csv')\n",
    "print(movie_keyword.shape)\n",
    "movie_keyword.head()"
   ]
  },
  {
   "cell_type": "markdown",
   "metadata": {
    "id": "gNrZOkrcdDNa"
   },
   "source": [
    "위 **데이터 2개(movies_metadata, keywords)**를 id를 기준으로 merge 해줍니다."
   ]
  },
  {
   "cell_type": "code",
   "execution_count": 20,
   "metadata": {
    "colab": {
     "base_uri": "https://localhost:8080/",
     "height": 320
    },
    "executionInfo": {
     "elapsed": 6,
     "status": "ok",
     "timestamp": 1649510587725,
     "user": {
      "displayName": "DK P",
      "userId": "03785239656050005701"
     },
     "user_tz": -540
    },
    "id": "8A3VaCAbdIxU",
    "outputId": "bbf99222-28c7-479e-d19a-9eb76d7f9952"
   },
   "outputs": [
    {
     "name": "stdout",
     "output_type": "stream",
     "text": [
      "(32852, 5)\n"
     ]
    },
    {
     "data": {
      "text/html": [
       "<div>\n",
       "<style scoped>\n",
       "    .dataframe tbody tr th:only-of-type {\n",
       "        vertical-align: middle;\n",
       "    }\n",
       "\n",
       "    .dataframe tbody tr th {\n",
       "        vertical-align: top;\n",
       "    }\n",
       "\n",
       "    .dataframe thead th {\n",
       "        text-align: right;\n",
       "    }\n",
       "</style>\n",
       "<table border=\"1\" class=\"dataframe\">\n",
       "  <thead>\n",
       "    <tr style=\"text-align: right;\">\n",
       "      <th></th>\n",
       "      <th>id</th>\n",
       "      <th>title</th>\n",
       "      <th>original_language</th>\n",
       "      <th>genres</th>\n",
       "      <th>keywords</th>\n",
       "    </tr>\n",
       "  </thead>\n",
       "  <tbody>\n",
       "    <tr>\n",
       "      <th>0</th>\n",
       "      <td>862</td>\n",
       "      <td>Toy Story</td>\n",
       "      <td>en</td>\n",
       "      <td>[{'id': 16, 'name': 'Animation'}, {'id': 35, '...</td>\n",
       "      <td>[{'id': 931, 'name': 'jealousy'}, {'id': 4290,...</td>\n",
       "    </tr>\n",
       "    <tr>\n",
       "      <th>1</th>\n",
       "      <td>8844</td>\n",
       "      <td>Jumanji</td>\n",
       "      <td>en</td>\n",
       "      <td>[{'id': 12, 'name': 'Adventure'}, {'id': 14, '...</td>\n",
       "      <td>[{'id': 10090, 'name': 'board game'}, {'id': 1...</td>\n",
       "    </tr>\n",
       "    <tr>\n",
       "      <th>2</th>\n",
       "      <td>15602</td>\n",
       "      <td>Grumpier Old Men</td>\n",
       "      <td>en</td>\n",
       "      <td>[{'id': 10749, 'name': 'Romance'}, {'id': 35, ...</td>\n",
       "      <td>[{'id': 1495, 'name': 'fishing'}, {'id': 12392...</td>\n",
       "    </tr>\n",
       "    <tr>\n",
       "      <th>3</th>\n",
       "      <td>31357</td>\n",
       "      <td>Waiting to Exhale</td>\n",
       "      <td>en</td>\n",
       "      <td>[{'id': 35, 'name': 'Comedy'}, {'id': 18, 'nam...</td>\n",
       "      <td>[{'id': 818, 'name': 'based on novel'}, {'id':...</td>\n",
       "    </tr>\n",
       "    <tr>\n",
       "      <th>4</th>\n",
       "      <td>11862</td>\n",
       "      <td>Father of the Bride Part II</td>\n",
       "      <td>en</td>\n",
       "      <td>[{'id': 35, 'name': 'Comedy'}]</td>\n",
       "      <td>[{'id': 1009, 'name': 'baby'}, {'id': 1599, 'n...</td>\n",
       "    </tr>\n",
       "  </tbody>\n",
       "</table>\n",
       "</div>"
      ],
      "text/plain": [
       "      id                        title original_language  \\\n",
       "0    862                    Toy Story                en   \n",
       "1   8844                      Jumanji                en   \n",
       "2  15602             Grumpier Old Men                en   \n",
       "3  31357            Waiting to Exhale                en   \n",
       "4  11862  Father of the Bride Part II                en   \n",
       "\n",
       "                                              genres  \\\n",
       "0  [{'id': 16, 'name': 'Animation'}, {'id': 35, '...   \n",
       "1  [{'id': 12, 'name': 'Adventure'}, {'id': 14, '...   \n",
       "2  [{'id': 10749, 'name': 'Romance'}, {'id': 35, ...   \n",
       "3  [{'id': 35, 'name': 'Comedy'}, {'id': 18, 'nam...   \n",
       "4                     [{'id': 35, 'name': 'Comedy'}]   \n",
       "\n",
       "                                            keywords  \n",
       "0  [{'id': 931, 'name': 'jealousy'}, {'id': 4290,...  \n",
       "1  [{'id': 10090, 'name': 'board game'}, {'id': 1...  \n",
       "2  [{'id': 1495, 'name': 'fishing'}, {'id': 12392...  \n",
       "3  [{'id': 818, 'name': 'based on novel'}, {'id':...  \n",
       "4  [{'id': 1009, 'name': 'baby'}, {'id': 1599, 'n...  "
      ]
     },
     "execution_count": 20,
     "metadata": {},
     "output_type": "execute_result"
    }
   ],
   "source": [
    "movie_data.id = movie_data.id.astype(int)\n",
    "movie_keyword.id = movie_keyword.id.astype(int)\n",
    "movie_data = pd.merge(movie_data, movie_keyword, on='id')\n",
    "print(movie_data.shape)\n",
    "movie_data.head()"
   ]
  },
  {
   "cell_type": "markdown",
   "metadata": {
    "id": "kqr3e4OKdYEE"
   },
   "source": [
    "## 데이터 전처리\n",
    "\n",
    "앞서 진행했던 방법 그대로 **ast 패키지**를 사용하여 전처리 진행\n",
    "- ast 패키지에 literal_eval을 사용하면 list와 dictionary 형태로 바뀌게 됨"
   ]
  },
  {
   "cell_type": "code",
   "execution_count": 21,
   "metadata": {
    "colab": {
     "base_uri": "https://localhost:8080/",
     "height": 143
    },
    "executionInfo": {
     "elapsed": 3018,
     "status": "ok",
     "timestamp": 1649510590739,
     "user": {
      "displayName": "DK P",
      "userId": "03785239656050005701"
     },
     "user_tz": -540
    },
    "id": "g2ww1HDrdI1r",
    "outputId": "77d0192b-d465-47a9-92a9-eadd3613c33a"
   },
   "outputs": [
    {
     "data": {
      "text/html": [
       "<div>\n",
       "<style scoped>\n",
       "    .dataframe tbody tr th:only-of-type {\n",
       "        vertical-align: middle;\n",
       "    }\n",
       "\n",
       "    .dataframe tbody tr th {\n",
       "        vertical-align: top;\n",
       "    }\n",
       "\n",
       "    .dataframe thead th {\n",
       "        text-align: right;\n",
       "    }\n",
       "</style>\n",
       "<table border=\"1\" class=\"dataframe\">\n",
       "  <thead>\n",
       "    <tr style=\"text-align: right;\">\n",
       "      <th></th>\n",
       "      <th>id</th>\n",
       "      <th>title</th>\n",
       "      <th>original_language</th>\n",
       "      <th>genres</th>\n",
       "      <th>keywords</th>\n",
       "    </tr>\n",
       "  </thead>\n",
       "  <tbody>\n",
       "    <tr>\n",
       "      <th>0</th>\n",
       "      <td>862</td>\n",
       "      <td>Toy Story</td>\n",
       "      <td>en</td>\n",
       "      <td>Animation Comedy Family</td>\n",
       "      <td>jealousy toy boy friendship friends rivalry bo...</td>\n",
       "    </tr>\n",
       "    <tr>\n",
       "      <th>1</th>\n",
       "      <td>8844</td>\n",
       "      <td>Jumanji</td>\n",
       "      <td>en</td>\n",
       "      <td>Adventure Fantasy Family</td>\n",
       "      <td>board game disappearance based on children's b...</td>\n",
       "    </tr>\n",
       "    <tr>\n",
       "      <th>2</th>\n",
       "      <td>15602</td>\n",
       "      <td>Grumpier Old Men</td>\n",
       "      <td>en</td>\n",
       "      <td>Romance Comedy</td>\n",
       "      <td>fishing best friend duringcreditsstinger old men</td>\n",
       "    </tr>\n",
       "  </tbody>\n",
       "</table>\n",
       "</div>"
      ],
      "text/plain": [
       "      id             title original_language                    genres  \\\n",
       "0    862         Toy Story                en   Animation Comedy Family   \n",
       "1   8844           Jumanji                en  Adventure Fantasy Family   \n",
       "2  15602  Grumpier Old Men                en            Romance Comedy   \n",
       "\n",
       "                                            keywords  \n",
       "0  jealousy toy boy friendship friends rivalry bo...  \n",
       "1  board game disappearance based on children's b...  \n",
       "2   fishing best friend duringcreditsstinger old men  "
      ]
     },
     "execution_count": 21,
     "metadata": {},
     "output_type": "execute_result"
    }
   ],
   "source": [
    "movie_data['genres'] = movie_data['genres'].apply(literal_eval)\n",
    "movie_data['genres'] = movie_data['genres'].apply(lambda x : [d['name'] for d in x]).apply(lambda x : \" \".join(x))\n",
    "\n",
    "movie_data['keywords'] = movie_data['keywords'].apply(literal_eval)\n",
    "movie_data['keywords'] = movie_data['keywords'].apply(lambda x : [d['name'] for d in x]).apply(lambda x : \" \".join(x))\n",
    "\n",
    "movie_data.head(3)"
   ]
  },
  {
   "cell_type": "markdown",
   "metadata": {
    "id": "CdN0n7yCdqMr"
   },
   "source": [
    "## TF-IDF 벡터화\n",
    "\n",
    "전처리를 진행한 데이터를 **TF-IDF** 방법을 이용해 문자열을 벡터로 만들어 주어야 함.\n",
    "- 'genres'와 'keyword'를 하나로 합친 후 **tfidf vector**로 만들면 됨."
   ]
  },
  {
   "cell_type": "code",
   "execution_count": 22,
   "metadata": {
    "colab": {
     "base_uri": "https://localhost:8080/"
    },
    "executionInfo": {
     "elapsed": 1970,
     "status": "ok",
     "timestamp": 1649510592708,
     "user": {
      "displayName": "DK P",
      "userId": "03785239656050005701"
     },
     "user_tz": -540
    },
    "id": "9fJVVF2NdtaI",
    "outputId": "1e10291c-0dea-48f1-a54e-7e9c193544ca"
   },
   "outputs": [
    {
     "name": "stderr",
     "output_type": "stream",
     "text": [
      "C:\\ProgramData\\Anaconda3\\envs\\recommender\\lib\\site-packages\\sklearn\\utils\\deprecation.py:87: FutureWarning: Function get_feature_names is deprecated; get_feature_names is deprecated in 1.0 and will be removed in 1.2. Please use get_feature_names_out instead.\n",
      "  warnings.warn(msg, category=FutureWarning)\n"
     ]
    }
   ],
   "source": [
    "tfidf_vector = TfidfVectorizer()\n",
    "#tfidf_vector = TfidfVectorizer(ngram_range=(1,2))\n",
    "tfidf_matrix = tfidf_vector.fit_transform(movie_data['genres'] + \" \" + movie_data['keywords']).toarray()\n",
    "#tfidf_matrix = tfidf_vector.fit_transform(movie_data['genres']).toarray()\n",
    "tfidf_matrix_feature = tfidf_vector.get_feature_names()"
   ]
  },
  {
   "cell_type": "code",
   "execution_count": 23,
   "metadata": {
    "colab": {
     "base_uri": "https://localhost:8080/"
    },
    "executionInfo": {
     "elapsed": 6,
     "status": "ok",
     "timestamp": 1649510592708,
     "user": {
      "displayName": "DK P",
      "userId": "03785239656050005701"
     },
     "user_tz": -540
    },
    "id": "zXlJb-DceaZz",
    "outputId": "523ce705-3e49-4656-803d-405903c63612"
   },
   "outputs": [
    {
     "data": {
      "text/plain": [
       "(32852, 11437)"
      ]
     },
     "execution_count": 23,
     "metadata": {},
     "output_type": "execute_result"
    }
   ],
   "source": [
    "tfidf_matrix.shape"
   ]
  },
  {
   "cell_type": "code",
   "execution_count": 24,
   "metadata": {
    "colab": {
     "base_uri": "https://localhost:8080/",
     "height": 407
    },
    "executionInfo": {
     "elapsed": 5,
     "status": "ok",
     "timestamp": 1649510592708,
     "user": {
      "displayName": "DK P",
      "userId": "03785239656050005701"
     },
     "user_tz": -540
    },
    "id": "hPtxc4aJecYu",
    "outputId": "0dc6326f-9b9b-40a0-dcdc-28a916a0fe95"
   },
   "outputs": [
    {
     "name": "stdout",
     "output_type": "stream",
     "text": [
      "(32852, 11437)\n"
     ]
    },
    {
     "data": {
      "text/html": [
       "<div>\n",
       "<style scoped>\n",
       "    .dataframe tbody tr th:only-of-type {\n",
       "        vertical-align: middle;\n",
       "    }\n",
       "\n",
       "    .dataframe tbody tr th {\n",
       "        vertical-align: top;\n",
       "    }\n",
       "\n",
       "    .dataframe thead th {\n",
       "        text-align: right;\n",
       "    }\n",
       "</style>\n",
       "<table border=\"1\" class=\"dataframe\">\n",
       "  <thead>\n",
       "    <tr style=\"text-align: right;\">\n",
       "      <th></th>\n",
       "      <th>077</th>\n",
       "      <th>10</th>\n",
       "      <th>11</th>\n",
       "      <th>13</th>\n",
       "      <th>1500s</th>\n",
       "      <th>15th</th>\n",
       "      <th>16th</th>\n",
       "      <th>17th</th>\n",
       "      <th>1812</th>\n",
       "      <th>18th</th>\n",
       "      <th>...</th>\n",
       "      <th>βάφτηκε</th>\n",
       "      <th>γη</th>\n",
       "      <th>κόκκινο</th>\n",
       "      <th>το</th>\n",
       "      <th>χώμα</th>\n",
       "      <th>миньоны</th>\n",
       "      <th>卧底肥妈</th>\n",
       "      <th>绝地奶霸</th>\n",
       "      <th>自然界大事件</th>\n",
       "      <th>超级妈妈</th>\n",
       "    </tr>\n",
       "    <tr>\n",
       "      <th>title</th>\n",
       "      <th></th>\n",
       "      <th></th>\n",
       "      <th></th>\n",
       "      <th></th>\n",
       "      <th></th>\n",
       "      <th></th>\n",
       "      <th></th>\n",
       "      <th></th>\n",
       "      <th></th>\n",
       "      <th></th>\n",
       "      <th></th>\n",
       "      <th></th>\n",
       "      <th></th>\n",
       "      <th></th>\n",
       "      <th></th>\n",
       "      <th></th>\n",
       "      <th></th>\n",
       "      <th></th>\n",
       "      <th></th>\n",
       "      <th></th>\n",
       "      <th></th>\n",
       "    </tr>\n",
       "  </thead>\n",
       "  <tbody>\n",
       "    <tr>\n",
       "      <th>Toy Story</th>\n",
       "      <td>0.0</td>\n",
       "      <td>0.0</td>\n",
       "      <td>0.0</td>\n",
       "      <td>0.0</td>\n",
       "      <td>0.0</td>\n",
       "      <td>0.0</td>\n",
       "      <td>0.0</td>\n",
       "      <td>0.0</td>\n",
       "      <td>0.0</td>\n",
       "      <td>0.0</td>\n",
       "      <td>...</td>\n",
       "      <td>0.0</td>\n",
       "      <td>0.0</td>\n",
       "      <td>0.0</td>\n",
       "      <td>0.0</td>\n",
       "      <td>0.0</td>\n",
       "      <td>0.0</td>\n",
       "      <td>0.0</td>\n",
       "      <td>0.0</td>\n",
       "      <td>0.0</td>\n",
       "      <td>0.0</td>\n",
       "    </tr>\n",
       "    <tr>\n",
       "      <th>Jumanji</th>\n",
       "      <td>0.0</td>\n",
       "      <td>0.0</td>\n",
       "      <td>0.0</td>\n",
       "      <td>0.0</td>\n",
       "      <td>0.0</td>\n",
       "      <td>0.0</td>\n",
       "      <td>0.0</td>\n",
       "      <td>0.0</td>\n",
       "      <td>0.0</td>\n",
       "      <td>0.0</td>\n",
       "      <td>...</td>\n",
       "      <td>0.0</td>\n",
       "      <td>0.0</td>\n",
       "      <td>0.0</td>\n",
       "      <td>0.0</td>\n",
       "      <td>0.0</td>\n",
       "      <td>0.0</td>\n",
       "      <td>0.0</td>\n",
       "      <td>0.0</td>\n",
       "      <td>0.0</td>\n",
       "      <td>0.0</td>\n",
       "    </tr>\n",
       "    <tr>\n",
       "      <th>Grumpier Old Men</th>\n",
       "      <td>0.0</td>\n",
       "      <td>0.0</td>\n",
       "      <td>0.0</td>\n",
       "      <td>0.0</td>\n",
       "      <td>0.0</td>\n",
       "      <td>0.0</td>\n",
       "      <td>0.0</td>\n",
       "      <td>0.0</td>\n",
       "      <td>0.0</td>\n",
       "      <td>0.0</td>\n",
       "      <td>...</td>\n",
       "      <td>0.0</td>\n",
       "      <td>0.0</td>\n",
       "      <td>0.0</td>\n",
       "      <td>0.0</td>\n",
       "      <td>0.0</td>\n",
       "      <td>0.0</td>\n",
       "      <td>0.0</td>\n",
       "      <td>0.0</td>\n",
       "      <td>0.0</td>\n",
       "      <td>0.0</td>\n",
       "    </tr>\n",
       "  </tbody>\n",
       "</table>\n",
       "<p>3 rows × 11437 columns</p>\n",
       "</div>"
      ],
      "text/plain": [
       "                  077   10   11   13  1500s  15th  16th  17th  1812  18th  \\\n",
       "title                                                                       \n",
       "Toy Story         0.0  0.0  0.0  0.0    0.0   0.0   0.0   0.0   0.0   0.0   \n",
       "Jumanji           0.0  0.0  0.0  0.0    0.0   0.0   0.0   0.0   0.0   0.0   \n",
       "Grumpier Old Men  0.0  0.0  0.0  0.0    0.0   0.0   0.0   0.0   0.0   0.0   \n",
       "\n",
       "                  ...  βάφτηκε   γη  κόκκινο   το  χώμα  миньоны  卧底肥妈  绝地奶霸  \\\n",
       "title             ...                                                          \n",
       "Toy Story         ...      0.0  0.0      0.0  0.0   0.0      0.0   0.0   0.0   \n",
       "Jumanji           ...      0.0  0.0      0.0  0.0   0.0      0.0   0.0   0.0   \n",
       "Grumpier Old Men  ...      0.0  0.0      0.0  0.0   0.0      0.0   0.0   0.0   \n",
       "\n",
       "                  自然界大事件  超级妈妈  \n",
       "title                           \n",
       "Toy Story            0.0   0.0  \n",
       "Jumanji              0.0   0.0  \n",
       "Grumpier Old Men     0.0   0.0  \n",
       "\n",
       "[3 rows x 11437 columns]"
      ]
     },
     "execution_count": 24,
     "metadata": {},
     "output_type": "execute_result"
    }
   ],
   "source": [
    "tfidf_matrix = pd.DataFrame(tfidf_matrix, columns=tfidf_matrix_feature, index = movie_data.title)\n",
    "print(tfidf_matrix.shape)\n",
    "tfidf_matrix.head(3)"
   ]
  },
  {
   "cell_type": "markdown",
   "metadata": {
    "id": "BVb3GRMvef98"
   },
   "source": [
    "## 유사도 구하기\n",
    "\n",
    "위와 같이 만들어진 tfidf vector를 **코사인 유사도**를 사용하여 유사도 값을 구해줘야 함.\n",
    "\n",
    "이렇게 하면 영화 개수(n) 만큼 n x n의 matrix 형태가 생성됨."
   ]
  },
  {
   "cell_type": "code",
   "execution_count": 25,
   "metadata": {
    "id": "mgKiepDRdtms"
   },
   "outputs": [
    {
     "name": "stdout",
     "output_type": "stream",
     "text": [
      "Wall time: 53.5 s\n"
     ]
    },
    {
     "data": {
      "text/plain": [
       "(32852, 32852)"
      ]
     },
     "execution_count": 25,
     "metadata": {},
     "output_type": "execute_result"
    }
   ],
   "source": [
    "%%time\n",
    "\n",
    "cosine_sim = cosine_similarity(tfidf_matrix)\n",
    "\n",
    "cosine_sim.shape"
   ]
  },
  {
   "cell_type": "code",
   "execution_count": 26,
   "metadata": {
    "id": "J4Ke76iYe17c"
   },
   "outputs": [
    {
     "name": "stdout",
     "output_type": "stream",
     "text": [
      "(32852, 32852)\n"
     ]
    },
    {
     "data": {
      "text/html": [
       "<div>\n",
       "<style scoped>\n",
       "    .dataframe tbody tr th:only-of-type {\n",
       "        vertical-align: middle;\n",
       "    }\n",
       "\n",
       "    .dataframe tbody tr th {\n",
       "        vertical-align: top;\n",
       "    }\n",
       "\n",
       "    .dataframe thead th {\n",
       "        text-align: right;\n",
       "    }\n",
       "</style>\n",
       "<table border=\"1\" class=\"dataframe\">\n",
       "  <thead>\n",
       "    <tr style=\"text-align: right;\">\n",
       "      <th>title</th>\n",
       "      <th>Toy Story</th>\n",
       "      <th>Jumanji</th>\n",
       "      <th>Grumpier Old Men</th>\n",
       "      <th>Waiting to Exhale</th>\n",
       "      <th>Father of the Bride Part II</th>\n",
       "      <th>Heat</th>\n",
       "      <th>Sabrina</th>\n",
       "      <th>Tom and Huck</th>\n",
       "      <th>Sudden Death</th>\n",
       "      <th>GoldenEye</th>\n",
       "      <th>...</th>\n",
       "      <th>Deep Hearts</th>\n",
       "      <th>The Morning After</th>\n",
       "      <th>House of Horrors</th>\n",
       "      <th>Shadow of the Blair Witch</th>\n",
       "      <th>The Burkittsville 7</th>\n",
       "      <th>Caged Heat 3000</th>\n",
       "      <th>Robin Hood</th>\n",
       "      <th>Betrayal</th>\n",
       "      <th>Satan Triumphant</th>\n",
       "      <th>Queerama</th>\n",
       "    </tr>\n",
       "    <tr>\n",
       "      <th>title</th>\n",
       "      <th></th>\n",
       "      <th></th>\n",
       "      <th></th>\n",
       "      <th></th>\n",
       "      <th></th>\n",
       "      <th></th>\n",
       "      <th></th>\n",
       "      <th></th>\n",
       "      <th></th>\n",
       "      <th></th>\n",
       "      <th></th>\n",
       "      <th></th>\n",
       "      <th></th>\n",
       "      <th></th>\n",
       "      <th></th>\n",
       "      <th></th>\n",
       "      <th></th>\n",
       "      <th></th>\n",
       "      <th></th>\n",
       "      <th></th>\n",
       "      <th></th>\n",
       "    </tr>\n",
       "  </thead>\n",
       "  <tbody>\n",
       "    <tr>\n",
       "      <th>Toy Story</th>\n",
       "      <td>1.000000</td>\n",
       "      <td>0.041569</td>\n",
       "      <td>0.008708</td>\n",
       "      <td>0.006937</td>\n",
       "      <td>0.005595</td>\n",
       "      <td>0.000000</td>\n",
       "      <td>0.006456</td>\n",
       "      <td>0.059202</td>\n",
       "      <td>0.000000</td>\n",
       "      <td>0.000000</td>\n",
       "      <td>...</td>\n",
       "      <td>0.0</td>\n",
       "      <td>0.051110</td>\n",
       "      <td>0.028298</td>\n",
       "      <td>0.0</td>\n",
       "      <td>0.0</td>\n",
       "      <td>0.0</td>\n",
       "      <td>0.000000</td>\n",
       "      <td>0.000000</td>\n",
       "      <td>0.0</td>\n",
       "      <td>0.0</td>\n",
       "    </tr>\n",
       "    <tr>\n",
       "      <th>Jumanji</th>\n",
       "      <td>0.041569</td>\n",
       "      <td>1.000000</td>\n",
       "      <td>0.000000</td>\n",
       "      <td>0.065065</td>\n",
       "      <td>0.000000</td>\n",
       "      <td>0.000000</td>\n",
       "      <td>0.000000</td>\n",
       "      <td>0.165721</td>\n",
       "      <td>0.028302</td>\n",
       "      <td>0.011462</td>\n",
       "      <td>...</td>\n",
       "      <td>0.0</td>\n",
       "      <td>0.000000</td>\n",
       "      <td>0.039299</td>\n",
       "      <td>0.0</td>\n",
       "      <td>0.0</td>\n",
       "      <td>0.0</td>\n",
       "      <td>0.000000</td>\n",
       "      <td>0.000000</td>\n",
       "      <td>0.0</td>\n",
       "      <td>0.0</td>\n",
       "    </tr>\n",
       "    <tr>\n",
       "      <th>Grumpier Old Men</th>\n",
       "      <td>0.008708</td>\n",
       "      <td>0.000000</td>\n",
       "      <td>1.000000</td>\n",
       "      <td>0.035846</td>\n",
       "      <td>0.010906</td>\n",
       "      <td>0.000000</td>\n",
       "      <td>0.033363</td>\n",
       "      <td>0.000000</td>\n",
       "      <td>0.000000</td>\n",
       "      <td>0.000000</td>\n",
       "      <td>...</td>\n",
       "      <td>0.0</td>\n",
       "      <td>0.099628</td>\n",
       "      <td>0.000000</td>\n",
       "      <td>0.0</td>\n",
       "      <td>0.0</td>\n",
       "      <td>0.0</td>\n",
       "      <td>0.106819</td>\n",
       "      <td>0.000000</td>\n",
       "      <td>0.0</td>\n",
       "      <td>0.0</td>\n",
       "    </tr>\n",
       "    <tr>\n",
       "      <th>Waiting to Exhale</th>\n",
       "      <td>0.006937</td>\n",
       "      <td>0.065065</td>\n",
       "      <td>0.035846</td>\n",
       "      <td>1.000000</td>\n",
       "      <td>0.093741</td>\n",
       "      <td>0.003806</td>\n",
       "      <td>0.063686</td>\n",
       "      <td>0.027484</td>\n",
       "      <td>0.000000</td>\n",
       "      <td>0.000000</td>\n",
       "      <td>...</td>\n",
       "      <td>0.0</td>\n",
       "      <td>0.135728</td>\n",
       "      <td>0.000000</td>\n",
       "      <td>0.0</td>\n",
       "      <td>0.0</td>\n",
       "      <td>0.0</td>\n",
       "      <td>0.121701</td>\n",
       "      <td>0.037622</td>\n",
       "      <td>0.0</td>\n",
       "      <td>0.0</td>\n",
       "    </tr>\n",
       "    <tr>\n",
       "      <th>Father of the Bride Part II</th>\n",
       "      <td>0.005595</td>\n",
       "      <td>0.000000</td>\n",
       "      <td>0.010906</td>\n",
       "      <td>0.093741</td>\n",
       "      <td>1.000000</td>\n",
       "      <td>0.000000</td>\n",
       "      <td>0.038016</td>\n",
       "      <td>0.000000</td>\n",
       "      <td>0.000000</td>\n",
       "      <td>0.000000</td>\n",
       "      <td>...</td>\n",
       "      <td>0.0</td>\n",
       "      <td>0.064015</td>\n",
       "      <td>0.000000</td>\n",
       "      <td>0.0</td>\n",
       "      <td>0.0</td>\n",
       "      <td>0.0</td>\n",
       "      <td>0.000000</td>\n",
       "      <td>0.000000</td>\n",
       "      <td>0.0</td>\n",
       "      <td>0.0</td>\n",
       "    </tr>\n",
       "  </tbody>\n",
       "</table>\n",
       "<p>5 rows × 32852 columns</p>\n",
       "</div>"
      ],
      "text/plain": [
       "title                        Toy Story   Jumanji  Grumpier Old Men  \\\n",
       "title                                                                \n",
       "Toy Story                     1.000000  0.041569          0.008708   \n",
       "Jumanji                       0.041569  1.000000          0.000000   \n",
       "Grumpier Old Men              0.008708  0.000000          1.000000   \n",
       "Waiting to Exhale             0.006937  0.065065          0.035846   \n",
       "Father of the Bride Part II   0.005595  0.000000          0.010906   \n",
       "\n",
       "title                        Waiting to Exhale  Father of the Bride Part II  \\\n",
       "title                                                                         \n",
       "Toy Story                             0.006937                     0.005595   \n",
       "Jumanji                               0.065065                     0.000000   \n",
       "Grumpier Old Men                      0.035846                     0.010906   \n",
       "Waiting to Exhale                     1.000000                     0.093741   \n",
       "Father of the Bride Part II           0.093741                     1.000000   \n",
       "\n",
       "title                            Heat   Sabrina  Tom and Huck  Sudden Death  \\\n",
       "title                                                                         \n",
       "Toy Story                    0.000000  0.006456      0.059202      0.000000   \n",
       "Jumanji                      0.000000  0.000000      0.165721      0.028302   \n",
       "Grumpier Old Men             0.000000  0.033363      0.000000      0.000000   \n",
       "Waiting to Exhale            0.003806  0.063686      0.027484      0.000000   \n",
       "Father of the Bride Part II  0.000000  0.038016      0.000000      0.000000   \n",
       "\n",
       "title                        GoldenEye  ...  Deep Hearts  The Morning After  \\\n",
       "title                                   ...                                   \n",
       "Toy Story                     0.000000  ...          0.0           0.051110   \n",
       "Jumanji                       0.011462  ...          0.0           0.000000   \n",
       "Grumpier Old Men              0.000000  ...          0.0           0.099628   \n",
       "Waiting to Exhale             0.000000  ...          0.0           0.135728   \n",
       "Father of the Bride Part II   0.000000  ...          0.0           0.064015   \n",
       "\n",
       "title                        House of Horrors  Shadow of the Blair Witch  \\\n",
       "title                                                                      \n",
       "Toy Story                            0.028298                        0.0   \n",
       "Jumanji                              0.039299                        0.0   \n",
       "Grumpier Old Men                     0.000000                        0.0   \n",
       "Waiting to Exhale                    0.000000                        0.0   \n",
       "Father of the Bride Part II          0.000000                        0.0   \n",
       "\n",
       "title                        The Burkittsville 7  Caged Heat 3000  Robin Hood  \\\n",
       "title                                                                           \n",
       "Toy Story                                    0.0              0.0    0.000000   \n",
       "Jumanji                                      0.0              0.0    0.000000   \n",
       "Grumpier Old Men                             0.0              0.0    0.106819   \n",
       "Waiting to Exhale                            0.0              0.0    0.121701   \n",
       "Father of the Bride Part II                  0.0              0.0    0.000000   \n",
       "\n",
       "title                        Betrayal  Satan Triumphant  Queerama  \n",
       "title                                                              \n",
       "Toy Story                    0.000000               0.0       0.0  \n",
       "Jumanji                      0.000000               0.0       0.0  \n",
       "Grumpier Old Men             0.000000               0.0       0.0  \n",
       "Waiting to Exhale            0.037622               0.0       0.0  \n",
       "Father of the Bride Part II  0.000000               0.0       0.0  \n",
       "\n",
       "[5 rows x 32852 columns]"
      ]
     },
     "execution_count": 26,
     "metadata": {},
     "output_type": "execute_result"
    }
   ],
   "source": [
    "cosine_sim_df = pd.DataFrame(cosine_sim, index = movie_data.title, columns = movie_data.title)\n",
    "print(cosine_sim_df.shape)\n",
    "cosine_sim_df.head()"
   ]
  },
  {
   "cell_type": "markdown",
   "metadata": {
    "id": "IV3aJjB6bVei"
   },
   "source": [
    "이제 **content base recsys** 결과를 뽑아내기 위한 함수를 생성하고, 아래와 같은 기능을 함.\n",
    "\n",
    "- target title( 추천 결과를 조회할 영화 제목 )에 따라서 코사인 유사도를 구한 matrix에서 유사도 데이터를 가져옴\n",
    "- 유사도 데이터 중 가장 유사도 값이 큰 데이터를 가져옴\n",
    "  - 가져올 때 top k개를 가져옴\n",
    "- 해당 추천 값 출력"
   ]
  },
  {
   "cell_type": "code",
   "execution_count": 27,
   "metadata": {
    "id": "Ko0KEhg2f30D"
   },
   "outputs": [],
   "source": [
    "def genre_recommendations(target_title, matrix, items, k=10):\n",
    "    recom_idx = matrix.loc[:, target_title].values.reshape(1, -1).argsort()[:, ::-1].flatten()[1:k+1]\n",
    "    recom_title = items.iloc[recom_idx, :].title.values\n",
    "    recom_genre = items.iloc[recom_idx, :].genres.values\n",
    "    target_title_list = np.full(len(range(k)), target_title)\n",
    "    target_genre_list = np.full(len(range(k)), items[items.title == target_title].genres.values)\n",
    "    d = {\n",
    "        'target_title':target_title_list,\n",
    "        'target_genre':target_genre_list,\n",
    "        'recom_title' : recom_title,\n",
    "        'recom_genre' : recom_genre\n",
    "    }\n",
    "    return pd.DataFrame(d)"
   ]
  },
  {
   "cell_type": "code",
   "execution_count": 28,
   "metadata": {
    "id": "jTYfAP9JgHwq"
   },
   "outputs": [
    {
     "data": {
      "text/html": [
       "<div>\n",
       "<style scoped>\n",
       "    .dataframe tbody tr th:only-of-type {\n",
       "        vertical-align: middle;\n",
       "    }\n",
       "\n",
       "    .dataframe tbody tr th {\n",
       "        vertical-align: top;\n",
       "    }\n",
       "\n",
       "    .dataframe thead th {\n",
       "        text-align: right;\n",
       "    }\n",
       "</style>\n",
       "<table border=\"1\" class=\"dataframe\">\n",
       "  <thead>\n",
       "    <tr style=\"text-align: right;\">\n",
       "      <th></th>\n",
       "      <th>target_title</th>\n",
       "      <th>target_genre</th>\n",
       "      <th>recom_title</th>\n",
       "      <th>recom_genre</th>\n",
       "    </tr>\n",
       "  </thead>\n",
       "  <tbody>\n",
       "    <tr>\n",
       "      <th>0</th>\n",
       "      <td>The Dark Knight Rises</td>\n",
       "      <td>Action Crime Drama Thriller</td>\n",
       "      <td>The Dark Knight</td>\n",
       "      <td>Drama Action Crime Thriller</td>\n",
       "    </tr>\n",
       "    <tr>\n",
       "      <th>1</th>\n",
       "      <td>The Dark Knight Rises</td>\n",
       "      <td>Action Crime Drama Thriller</td>\n",
       "      <td>The Burglar</td>\n",
       "      <td>Crime Drama</td>\n",
       "    </tr>\n",
       "    <tr>\n",
       "      <th>2</th>\n",
       "      <td>The Dark Knight Rises</td>\n",
       "      <td>Action Crime Drama Thriller</td>\n",
       "      <td>Batman Begins</td>\n",
       "      <td>Action Crime Drama</td>\n",
       "    </tr>\n",
       "    <tr>\n",
       "      <th>3</th>\n",
       "      <td>The Dark Knight Rises</td>\n",
       "      <td>Action Crime Drama Thriller</td>\n",
       "      <td>Batman &amp; Robin</td>\n",
       "      <td>Action Crime Fantasy</td>\n",
       "    </tr>\n",
       "    <tr>\n",
       "      <th>4</th>\n",
       "      <td>The Dark Knight Rises</td>\n",
       "      <td>Action Crime Drama Thriller</td>\n",
       "      <td>Batman</td>\n",
       "      <td>Fantasy Action</td>\n",
       "    </tr>\n",
       "    <tr>\n",
       "      <th>5</th>\n",
       "      <td>The Dark Knight Rises</td>\n",
       "      <td>Action Crime Drama Thriller</td>\n",
       "      <td>Raffles</td>\n",
       "      <td>Adventure Comedy Crime Drama History Romance T...</td>\n",
       "    </tr>\n",
       "    <tr>\n",
       "      <th>6</th>\n",
       "      <td>The Dark Knight Rises</td>\n",
       "      <td>Action Crime Drama Thriller</td>\n",
       "      <td>Hero at Large</td>\n",
       "      <td>Action Comedy Drama</td>\n",
       "    </tr>\n",
       "    <tr>\n",
       "      <th>7</th>\n",
       "      <td>The Dark Knight Rises</td>\n",
       "      <td>Action Crime Drama Thriller</td>\n",
       "      <td>DC Showcase: Catwoman</td>\n",
       "      <td>Action Adventure Animation Science Fiction</td>\n",
       "    </tr>\n",
       "    <tr>\n",
       "      <th>8</th>\n",
       "      <td>The Dark Knight Rises</td>\n",
       "      <td>Action Crime Drama Thriller</td>\n",
       "      <td>DC Super Hero Girls: Hero of the Year</td>\n",
       "      <td>Animation</td>\n",
       "    </tr>\n",
       "    <tr>\n",
       "      <th>9</th>\n",
       "      <td>The Dark Knight Rises</td>\n",
       "      <td>Action Crime Drama Thriller</td>\n",
       "      <td>Batman Returns</td>\n",
       "      <td>Action Fantasy</td>\n",
       "    </tr>\n",
       "  </tbody>\n",
       "</table>\n",
       "</div>"
      ],
      "text/plain": [
       "            target_title                 target_genre  \\\n",
       "0  The Dark Knight Rises  Action Crime Drama Thriller   \n",
       "1  The Dark Knight Rises  Action Crime Drama Thriller   \n",
       "2  The Dark Knight Rises  Action Crime Drama Thriller   \n",
       "3  The Dark Knight Rises  Action Crime Drama Thriller   \n",
       "4  The Dark Knight Rises  Action Crime Drama Thriller   \n",
       "5  The Dark Knight Rises  Action Crime Drama Thriller   \n",
       "6  The Dark Knight Rises  Action Crime Drama Thriller   \n",
       "7  The Dark Knight Rises  Action Crime Drama Thriller   \n",
       "8  The Dark Knight Rises  Action Crime Drama Thriller   \n",
       "9  The Dark Knight Rises  Action Crime Drama Thriller   \n",
       "\n",
       "                             recom_title  \\\n",
       "0                        The Dark Knight   \n",
       "1                            The Burglar   \n",
       "2                          Batman Begins   \n",
       "3                         Batman & Robin   \n",
       "4                                 Batman   \n",
       "5                                Raffles   \n",
       "6                          Hero at Large   \n",
       "7                  DC Showcase: Catwoman   \n",
       "8  DC Super Hero Girls: Hero of the Year   \n",
       "9                         Batman Returns   \n",
       "\n",
       "                                         recom_genre  \n",
       "0                        Drama Action Crime Thriller  \n",
       "1                                        Crime Drama  \n",
       "2                                 Action Crime Drama  \n",
       "3                               Action Crime Fantasy  \n",
       "4                                     Fantasy Action  \n",
       "5  Adventure Comedy Crime Drama History Romance T...  \n",
       "6                                Action Comedy Drama  \n",
       "7         Action Adventure Animation Science Fiction  \n",
       "8                                          Animation  \n",
       "9                                     Action Fantasy  "
      ]
     },
     "execution_count": 28,
     "metadata": {},
     "output_type": "execute_result"
    }
   ],
   "source": [
    "genre_recommendations('The Dark Knight Rises', cosine_sim_df, movie_data)"
   ]
  }
 ],
 "metadata": {
  "accelerator": "GPU",
  "colab": {
   "authorship_tag": "ABX9TyPCTKlZq73WNWY4qJCuovok",
   "collapsed_sections": [],
   "machine_shape": "hm",
   "name": "01. 추천 시스템 - 콘텐츠 기반(content based filtering).ipynb",
   "provenance": []
  },
  "kernelspec": {
   "display_name": "Python 3 (ipykernel)",
   "language": "python",
   "name": "python3"
  },
  "language_info": {
   "codemirror_mode": {
    "name": "ipython",
    "version": 3
   },
   "file_extension": ".py",
   "mimetype": "text/x-python",
   "name": "python",
   "nbconvert_exporter": "python",
   "pygments_lexer": "ipython3",
   "version": "3.7.0"
  }
 },
 "nbformat": 4,
 "nbformat_minor": 1
}
