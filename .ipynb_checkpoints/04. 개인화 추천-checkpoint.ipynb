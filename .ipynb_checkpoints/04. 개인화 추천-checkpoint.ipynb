{
 "cells": [
  {
   "cell_type": "markdown",
   "metadata": {
    "id": "4mHuo4OOJofb"
   },
   "source": [
    "# 한 사용자에게 개인 추천을 해주기\n",
    "\n",
    "앞선 예제들은 **하나의 영화에 대해서 비슷한 영화를 추천**함.\n",
    "\n",
    "하지만, 보통 추천 시스템은 각 개인 사용자에게 추천을 해주어야 한다.\n",
    "\n",
    "이번 실험은 개인 사용자에게 추천을 해주기 위해서 **사용자 맞춤 협업 필터링 행렬 분해를 적용**"
   ]
  },
  {
   "cell_type": "code",
   "execution_count": 2,
   "metadata": {},
   "outputs": [],
   "source": [
    "from sklearn.decomposition import TruncatedSVD\n",
    "from scipy.sparse.linalg import svds\n",
    "\n",
    "import matplotlib.pyplot as plt\n",
    "import seaborn as sns\n",
    "import pandas as pd\n",
    "import numpy as np\n",
    "import warnings\n",
    "warnings.filterwarnings(\"ignore\")"
   ]
  },
  {
   "cell_type": "code",
   "execution_count": 3,
   "metadata": {
    "id": "oGCM7kjKJofb"
   },
   "outputs": [],
   "source": [
    "df_ratings  = pd.read_csv('./dataset/ratings.csv')\n",
    "df_movies  = pd.read_csv('./dataset/movies.csv')"
   ]
  },
  {
   "cell_type": "code",
   "execution_count": 4,
   "metadata": {
    "id": "1ZVaBhsZJofb"
   },
   "outputs": [],
   "source": [
    "df_user_movie_ratings = df_ratings.pivot(\n",
    "    index='userId',\n",
    "    columns='movieId',\n",
    "    values='rating'\n",
    ").fillna(0)"
   ]
  },
  {
   "cell_type": "code",
   "execution_count": 5,
   "metadata": {
    "id": "s8fjLGARJofc",
    "outputId": "0c3e9d20-1cdf-4f03-b450-29a3f1335001"
   },
   "outputs": [
    {
     "data": {
      "text/html": [
       "<div>\n",
       "<style scoped>\n",
       "    .dataframe tbody tr th:only-of-type {\n",
       "        vertical-align: middle;\n",
       "    }\n",
       "\n",
       "    .dataframe tbody tr th {\n",
       "        vertical-align: top;\n",
       "    }\n",
       "\n",
       "    .dataframe thead th {\n",
       "        text-align: right;\n",
       "    }\n",
       "</style>\n",
       "<table border=\"1\" class=\"dataframe\">\n",
       "  <thead>\n",
       "    <tr style=\"text-align: right;\">\n",
       "      <th>movieId</th>\n",
       "      <th>1</th>\n",
       "      <th>2</th>\n",
       "      <th>3</th>\n",
       "      <th>4</th>\n",
       "      <th>5</th>\n",
       "      <th>6</th>\n",
       "      <th>7</th>\n",
       "      <th>8</th>\n",
       "      <th>9</th>\n",
       "      <th>10</th>\n",
       "      <th>...</th>\n",
       "      <th>161084</th>\n",
       "      <th>161155</th>\n",
       "      <th>161594</th>\n",
       "      <th>161830</th>\n",
       "      <th>161918</th>\n",
       "      <th>161944</th>\n",
       "      <th>162376</th>\n",
       "      <th>162542</th>\n",
       "      <th>162672</th>\n",
       "      <th>163949</th>\n",
       "    </tr>\n",
       "    <tr>\n",
       "      <th>userId</th>\n",
       "      <th></th>\n",
       "      <th></th>\n",
       "      <th></th>\n",
       "      <th></th>\n",
       "      <th></th>\n",
       "      <th></th>\n",
       "      <th></th>\n",
       "      <th></th>\n",
       "      <th></th>\n",
       "      <th></th>\n",
       "      <th></th>\n",
       "      <th></th>\n",
       "      <th></th>\n",
       "      <th></th>\n",
       "      <th></th>\n",
       "      <th></th>\n",
       "      <th></th>\n",
       "      <th></th>\n",
       "      <th></th>\n",
       "      <th></th>\n",
       "      <th></th>\n",
       "    </tr>\n",
       "  </thead>\n",
       "  <tbody>\n",
       "    <tr>\n",
       "      <th>1</th>\n",
       "      <td>0.0</td>\n",
       "      <td>0.0</td>\n",
       "      <td>0.0</td>\n",
       "      <td>0.0</td>\n",
       "      <td>0.0</td>\n",
       "      <td>0.0</td>\n",
       "      <td>0.0</td>\n",
       "      <td>0.0</td>\n",
       "      <td>0.0</td>\n",
       "      <td>0.0</td>\n",
       "      <td>...</td>\n",
       "      <td>0.0</td>\n",
       "      <td>0.0</td>\n",
       "      <td>0.0</td>\n",
       "      <td>0.0</td>\n",
       "      <td>0.0</td>\n",
       "      <td>0.0</td>\n",
       "      <td>0.0</td>\n",
       "      <td>0.0</td>\n",
       "      <td>0.0</td>\n",
       "      <td>0.0</td>\n",
       "    </tr>\n",
       "    <tr>\n",
       "      <th>2</th>\n",
       "      <td>0.0</td>\n",
       "      <td>0.0</td>\n",
       "      <td>0.0</td>\n",
       "      <td>0.0</td>\n",
       "      <td>0.0</td>\n",
       "      <td>0.0</td>\n",
       "      <td>0.0</td>\n",
       "      <td>0.0</td>\n",
       "      <td>0.0</td>\n",
       "      <td>4.0</td>\n",
       "      <td>...</td>\n",
       "      <td>0.0</td>\n",
       "      <td>0.0</td>\n",
       "      <td>0.0</td>\n",
       "      <td>0.0</td>\n",
       "      <td>0.0</td>\n",
       "      <td>0.0</td>\n",
       "      <td>0.0</td>\n",
       "      <td>0.0</td>\n",
       "      <td>0.0</td>\n",
       "      <td>0.0</td>\n",
       "    </tr>\n",
       "    <tr>\n",
       "      <th>3</th>\n",
       "      <td>0.0</td>\n",
       "      <td>0.0</td>\n",
       "      <td>0.0</td>\n",
       "      <td>0.0</td>\n",
       "      <td>0.0</td>\n",
       "      <td>0.0</td>\n",
       "      <td>0.0</td>\n",
       "      <td>0.0</td>\n",
       "      <td>0.0</td>\n",
       "      <td>0.0</td>\n",
       "      <td>...</td>\n",
       "      <td>0.0</td>\n",
       "      <td>0.0</td>\n",
       "      <td>0.0</td>\n",
       "      <td>0.0</td>\n",
       "      <td>0.0</td>\n",
       "      <td>0.0</td>\n",
       "      <td>0.0</td>\n",
       "      <td>0.0</td>\n",
       "      <td>0.0</td>\n",
       "      <td>0.0</td>\n",
       "    </tr>\n",
       "    <tr>\n",
       "      <th>4</th>\n",
       "      <td>0.0</td>\n",
       "      <td>0.0</td>\n",
       "      <td>0.0</td>\n",
       "      <td>0.0</td>\n",
       "      <td>0.0</td>\n",
       "      <td>0.0</td>\n",
       "      <td>0.0</td>\n",
       "      <td>0.0</td>\n",
       "      <td>0.0</td>\n",
       "      <td>4.0</td>\n",
       "      <td>...</td>\n",
       "      <td>0.0</td>\n",
       "      <td>0.0</td>\n",
       "      <td>0.0</td>\n",
       "      <td>0.0</td>\n",
       "      <td>0.0</td>\n",
       "      <td>0.0</td>\n",
       "      <td>0.0</td>\n",
       "      <td>0.0</td>\n",
       "      <td>0.0</td>\n",
       "      <td>0.0</td>\n",
       "    </tr>\n",
       "    <tr>\n",
       "      <th>5</th>\n",
       "      <td>0.0</td>\n",
       "      <td>0.0</td>\n",
       "      <td>4.0</td>\n",
       "      <td>0.0</td>\n",
       "      <td>0.0</td>\n",
       "      <td>0.0</td>\n",
       "      <td>0.0</td>\n",
       "      <td>0.0</td>\n",
       "      <td>0.0</td>\n",
       "      <td>0.0</td>\n",
       "      <td>...</td>\n",
       "      <td>0.0</td>\n",
       "      <td>0.0</td>\n",
       "      <td>0.0</td>\n",
       "      <td>0.0</td>\n",
       "      <td>0.0</td>\n",
       "      <td>0.0</td>\n",
       "      <td>0.0</td>\n",
       "      <td>0.0</td>\n",
       "      <td>0.0</td>\n",
       "      <td>0.0</td>\n",
       "    </tr>\n",
       "  </tbody>\n",
       "</table>\n",
       "<p>5 rows × 9066 columns</p>\n",
       "</div>"
      ],
      "text/plain": [
       "movieId  1       2       3       4       5       6       7       8       \\\n",
       "userId                                                                    \n",
       "1           0.0     0.0     0.0     0.0     0.0     0.0     0.0     0.0   \n",
       "2           0.0     0.0     0.0     0.0     0.0     0.0     0.0     0.0   \n",
       "3           0.0     0.0     0.0     0.0     0.0     0.0     0.0     0.0   \n",
       "4           0.0     0.0     0.0     0.0     0.0     0.0     0.0     0.0   \n",
       "5           0.0     0.0     4.0     0.0     0.0     0.0     0.0     0.0   \n",
       "\n",
       "movieId  9       10      ...  161084  161155  161594  161830  161918  161944  \\\n",
       "userId                   ...                                                   \n",
       "1           0.0     0.0  ...     0.0     0.0     0.0     0.0     0.0     0.0   \n",
       "2           0.0     4.0  ...     0.0     0.0     0.0     0.0     0.0     0.0   \n",
       "3           0.0     0.0  ...     0.0     0.0     0.0     0.0     0.0     0.0   \n",
       "4           0.0     4.0  ...     0.0     0.0     0.0     0.0     0.0     0.0   \n",
       "5           0.0     0.0  ...     0.0     0.0     0.0     0.0     0.0     0.0   \n",
       "\n",
       "movieId  162376  162542  162672  163949  \n",
       "userId                                   \n",
       "1           0.0     0.0     0.0     0.0  \n",
       "2           0.0     0.0     0.0     0.0  \n",
       "3           0.0     0.0     0.0     0.0  \n",
       "4           0.0     0.0     0.0     0.0  \n",
       "5           0.0     0.0     0.0     0.0  \n",
       "\n",
       "[5 rows x 9066 columns]"
      ]
     },
     "execution_count": 5,
     "metadata": {},
     "output_type": "execute_result"
    }
   ],
   "source": [
    "df_user_movie_ratings.head()"
   ]
  },
  {
   "cell_type": "markdown",
   "metadata": {
    "id": "vX5DIIFKJofc"
   },
   "source": [
    "여기까지는 앞서 진행했던 했던 것과 같음. \n",
    "\n",
    "**사용자-영화 pivot table**을 생성.\n",
    "\n",
    "그 후, 아래와 같이 데이터를 변경해야 함.\n",
    "\n",
    ">- pivot table을 matrix로 변환\n",
    "- np.mean(axis = 1)을 통해 각 사용자들이 매기는 평점 평균을 구함\n",
    "- matrix로 변환한 값과 평점 평균을 빼서 **사용자-평균 데이터 값**을 변경"
   ]
  },
  {
   "cell_type": "code",
   "execution_count": 6,
   "metadata": {
    "id": "s3-2HEAcJofc"
   },
   "outputs": [],
   "source": [
    "# matrix는 pivot_table 값을 numpy matrix로 변환한 것\n",
    "# DataFrame 버전이 변경되면서 to_numpy()를 사용해도 된다.\n",
    "# matrix = df_user_movie_ratings.as_matrix()\n",
    "matrix = df_user_movie_ratings.to_numpy()\n",
    "\n",
    "# user_ratings_mean은 사용자의 평균 평점 계산 \n",
    "user_ratings_mean = np.mean(matrix, axis = 1)\n",
    "\n",
    "# R_user_mean : 사용자-영화에 대해 사용자 평균 평점을 뺀 것.\n",
    "matrix_user_mean = matrix - user_ratings_mean.reshape(-1, 1)"
   ]
  },
  {
   "cell_type": "code",
   "execution_count": 7,
   "metadata": {
    "id": "nROuHkcVJofc",
    "outputId": "659bcf90-00db-43e8-d3bf-78a1028b64d6"
   },
   "outputs": [
    {
     "data": {
      "text/plain": [
       "array([[0., 0., 0., ..., 0., 0., 0.],\n",
       "       [0., 0., 0., ..., 0., 0., 0.],\n",
       "       [0., 0., 0., ..., 0., 0., 0.],\n",
       "       ...,\n",
       "       [0., 0., 0., ..., 0., 0., 0.],\n",
       "       [4., 0., 0., ..., 0., 0., 0.],\n",
       "       [5., 0., 0., ..., 0., 0., 0.]])"
      ]
     },
     "execution_count": 7,
     "metadata": {},
     "output_type": "execute_result"
    }
   ],
   "source": [
    "matrix"
   ]
  },
  {
   "cell_type": "code",
   "execution_count": 8,
   "metadata": {
    "id": "3LdOVu45Jofc",
    "outputId": "20a43353-417e-45bc-ec9b-12638e49ee3e"
   },
   "outputs": [
    {
     "data": {
      "text/plain": [
       "(671, 9066)"
      ]
     },
     "execution_count": 8,
     "metadata": {},
     "output_type": "execute_result"
    }
   ],
   "source": [
    "matrix.shape"
   ]
  },
  {
   "cell_type": "code",
   "execution_count": 9,
   "metadata": {
    "id": "kxj5xMF5Jofc",
    "outputId": "55d92e57-18fe-4767-d194-ddd2570e3797"
   },
   "outputs": [
    {
     "data": {
      "text/plain": [
       "(671,)"
      ]
     },
     "execution_count": 9,
     "metadata": {},
     "output_type": "execute_result"
    }
   ],
   "source": [
    "user_ratings_mean.shape"
   ]
  },
  {
   "cell_type": "code",
   "execution_count": 10,
   "metadata": {
    "id": "0vGKS2OKJofc",
    "outputId": "f3d20200-6b7a-49fa-b7dd-d1ea94495fdb"
   },
   "outputs": [
    {
     "data": {
      "text/plain": [
       "(671, 9066)"
      ]
     },
     "execution_count": 10,
     "metadata": {},
     "output_type": "execute_result"
    }
   ],
   "source": [
    "matrix_user_mean.shape"
   ]
  },
  {
   "cell_type": "code",
   "execution_count": 11,
   "metadata": {
    "id": "yIjXGtFEJofd",
    "outputId": "54aa1d98-9ba8-428d-a3f0-3903584f1816"
   },
   "outputs": [
    {
     "data": {
      "text/html": [
       "<div>\n",
       "<style scoped>\n",
       "    .dataframe tbody tr th:only-of-type {\n",
       "        vertical-align: middle;\n",
       "    }\n",
       "\n",
       "    .dataframe tbody tr th {\n",
       "        vertical-align: top;\n",
       "    }\n",
       "\n",
       "    .dataframe thead th {\n",
       "        text-align: right;\n",
       "    }\n",
       "</style>\n",
       "<table border=\"1\" class=\"dataframe\">\n",
       "  <thead>\n",
       "    <tr style=\"text-align: right;\">\n",
       "      <th>movieId</th>\n",
       "      <th>1</th>\n",
       "      <th>2</th>\n",
       "      <th>3</th>\n",
       "      <th>4</th>\n",
       "      <th>5</th>\n",
       "      <th>6</th>\n",
       "      <th>7</th>\n",
       "      <th>8</th>\n",
       "      <th>9</th>\n",
       "      <th>10</th>\n",
       "      <th>...</th>\n",
       "      <th>161084</th>\n",
       "      <th>161155</th>\n",
       "      <th>161594</th>\n",
       "      <th>161830</th>\n",
       "      <th>161918</th>\n",
       "      <th>161944</th>\n",
       "      <th>162376</th>\n",
       "      <th>162542</th>\n",
       "      <th>162672</th>\n",
       "      <th>163949</th>\n",
       "    </tr>\n",
       "  </thead>\n",
       "  <tbody>\n",
       "    <tr>\n",
       "      <th>0</th>\n",
       "      <td>-0.005625</td>\n",
       "      <td>-0.005625</td>\n",
       "      <td>-0.005625</td>\n",
       "      <td>-0.005625</td>\n",
       "      <td>-0.005625</td>\n",
       "      <td>-0.005625</td>\n",
       "      <td>-0.005625</td>\n",
       "      <td>-0.005625</td>\n",
       "      <td>-0.005625</td>\n",
       "      <td>-0.005625</td>\n",
       "      <td>...</td>\n",
       "      <td>-0.005625</td>\n",
       "      <td>-0.005625</td>\n",
       "      <td>-0.005625</td>\n",
       "      <td>-0.005625</td>\n",
       "      <td>-0.005625</td>\n",
       "      <td>-0.005625</td>\n",
       "      <td>-0.005625</td>\n",
       "      <td>-0.005625</td>\n",
       "      <td>-0.005625</td>\n",
       "      <td>-0.005625</td>\n",
       "    </tr>\n",
       "    <tr>\n",
       "      <th>1</th>\n",
       "      <td>-0.029230</td>\n",
       "      <td>-0.029230</td>\n",
       "      <td>-0.029230</td>\n",
       "      <td>-0.029230</td>\n",
       "      <td>-0.029230</td>\n",
       "      <td>-0.029230</td>\n",
       "      <td>-0.029230</td>\n",
       "      <td>-0.029230</td>\n",
       "      <td>-0.029230</td>\n",
       "      <td>3.970770</td>\n",
       "      <td>...</td>\n",
       "      <td>-0.029230</td>\n",
       "      <td>-0.029230</td>\n",
       "      <td>-0.029230</td>\n",
       "      <td>-0.029230</td>\n",
       "      <td>-0.029230</td>\n",
       "      <td>-0.029230</td>\n",
       "      <td>-0.029230</td>\n",
       "      <td>-0.029230</td>\n",
       "      <td>-0.029230</td>\n",
       "      <td>-0.029230</td>\n",
       "    </tr>\n",
       "    <tr>\n",
       "      <th>2</th>\n",
       "      <td>-0.020075</td>\n",
       "      <td>-0.020075</td>\n",
       "      <td>-0.020075</td>\n",
       "      <td>-0.020075</td>\n",
       "      <td>-0.020075</td>\n",
       "      <td>-0.020075</td>\n",
       "      <td>-0.020075</td>\n",
       "      <td>-0.020075</td>\n",
       "      <td>-0.020075</td>\n",
       "      <td>-0.020075</td>\n",
       "      <td>...</td>\n",
       "      <td>-0.020075</td>\n",
       "      <td>-0.020075</td>\n",
       "      <td>-0.020075</td>\n",
       "      <td>-0.020075</td>\n",
       "      <td>-0.020075</td>\n",
       "      <td>-0.020075</td>\n",
       "      <td>-0.020075</td>\n",
       "      <td>-0.020075</td>\n",
       "      <td>-0.020075</td>\n",
       "      <td>-0.020075</td>\n",
       "    </tr>\n",
       "    <tr>\n",
       "      <th>3</th>\n",
       "      <td>-0.097838</td>\n",
       "      <td>-0.097838</td>\n",
       "      <td>-0.097838</td>\n",
       "      <td>-0.097838</td>\n",
       "      <td>-0.097838</td>\n",
       "      <td>-0.097838</td>\n",
       "      <td>-0.097838</td>\n",
       "      <td>-0.097838</td>\n",
       "      <td>-0.097838</td>\n",
       "      <td>3.902162</td>\n",
       "      <td>...</td>\n",
       "      <td>-0.097838</td>\n",
       "      <td>-0.097838</td>\n",
       "      <td>-0.097838</td>\n",
       "      <td>-0.097838</td>\n",
       "      <td>-0.097838</td>\n",
       "      <td>-0.097838</td>\n",
       "      <td>-0.097838</td>\n",
       "      <td>-0.097838</td>\n",
       "      <td>-0.097838</td>\n",
       "      <td>-0.097838</td>\n",
       "    </tr>\n",
       "    <tr>\n",
       "      <th>4</th>\n",
       "      <td>-0.043128</td>\n",
       "      <td>-0.043128</td>\n",
       "      <td>3.956872</td>\n",
       "      <td>-0.043128</td>\n",
       "      <td>-0.043128</td>\n",
       "      <td>-0.043128</td>\n",
       "      <td>-0.043128</td>\n",
       "      <td>-0.043128</td>\n",
       "      <td>-0.043128</td>\n",
       "      <td>-0.043128</td>\n",
       "      <td>...</td>\n",
       "      <td>-0.043128</td>\n",
       "      <td>-0.043128</td>\n",
       "      <td>-0.043128</td>\n",
       "      <td>-0.043128</td>\n",
       "      <td>-0.043128</td>\n",
       "      <td>-0.043128</td>\n",
       "      <td>-0.043128</td>\n",
       "      <td>-0.043128</td>\n",
       "      <td>-0.043128</td>\n",
       "      <td>-0.043128</td>\n",
       "    </tr>\n",
       "  </tbody>\n",
       "</table>\n",
       "<p>5 rows × 9066 columns</p>\n",
       "</div>"
      ],
      "text/plain": [
       "movieId    1         2         3         4         5         6         7       \\\n",
       "0       -0.005625 -0.005625 -0.005625 -0.005625 -0.005625 -0.005625 -0.005625   \n",
       "1       -0.029230 -0.029230 -0.029230 -0.029230 -0.029230 -0.029230 -0.029230   \n",
       "2       -0.020075 -0.020075 -0.020075 -0.020075 -0.020075 -0.020075 -0.020075   \n",
       "3       -0.097838 -0.097838 -0.097838 -0.097838 -0.097838 -0.097838 -0.097838   \n",
       "4       -0.043128 -0.043128  3.956872 -0.043128 -0.043128 -0.043128 -0.043128   \n",
       "\n",
       "movieId    8         9         10      ...    161084    161155    161594  \\\n",
       "0       -0.005625 -0.005625 -0.005625  ... -0.005625 -0.005625 -0.005625   \n",
       "1       -0.029230 -0.029230  3.970770  ... -0.029230 -0.029230 -0.029230   \n",
       "2       -0.020075 -0.020075 -0.020075  ... -0.020075 -0.020075 -0.020075   \n",
       "3       -0.097838 -0.097838  3.902162  ... -0.097838 -0.097838 -0.097838   \n",
       "4       -0.043128 -0.043128 -0.043128  ... -0.043128 -0.043128 -0.043128   \n",
       "\n",
       "movieId    161830    161918    161944    162376    162542    162672    163949  \n",
       "0       -0.005625 -0.005625 -0.005625 -0.005625 -0.005625 -0.005625 -0.005625  \n",
       "1       -0.029230 -0.029230 -0.029230 -0.029230 -0.029230 -0.029230 -0.029230  \n",
       "2       -0.020075 -0.020075 -0.020075 -0.020075 -0.020075 -0.020075 -0.020075  \n",
       "3       -0.097838 -0.097838 -0.097838 -0.097838 -0.097838 -0.097838 -0.097838  \n",
       "4       -0.043128 -0.043128 -0.043128 -0.043128 -0.043128 -0.043128 -0.043128  \n",
       "\n",
       "[5 rows x 9066 columns]"
      ]
     },
     "execution_count": 11,
     "metadata": {},
     "output_type": "execute_result"
    }
   ],
   "source": [
    "pd.DataFrame(matrix_user_mean, columns = df_user_movie_ratings.columns).head()"
   ]
  },
  {
   "cell_type": "markdown",
   "metadata": {
    "id": "qXyq0zByJofd"
   },
   "source": [
    "초기에 만들었던 user-movie pivot table 값이 matrix_user_mean 변경됨.\n",
    "\n",
    "즉, 변경된 내용은 다음과 같다.\n",
    "\n",
    "1. 사용자 671명이 9066개의 **영화에 대해 평점을 매긴 값이 존재**\n",
    "2. 사용자 671명의 **각각 평균 평점**\n",
    "3. 사용자 671명의 9066개의 영화에 대해 평점을 조금 변경 -> **1에서 구한 값 - 2에서 구한 값**\n",
    "\n",
    "\n",
    "**SVD를 이용해 Matrix Factorization**을 진행 \n",
    "\n",
    "앞선 실험은 **scikit learn을 이용해 TruncatedSVD**를 이용했는데요. 이번에는 **scipy를 이용해 Truncated SVD**를 구했다.\n",
    "\n",
    "이 둘의 차이점은 scikit learn에서 제공해주는 TruncatedSVD는 U, Sigma, Vt 반환 값을 제공하지 않지만,\n",
    "Scipy를 이용하면 이 반환값들을 제공받을 수 있음.\n",
    "\n",
    "Scipy에서 제공해주는 Truncate SVD는 scipy.sparse.linalg.svds를 이용하면 됨.\n",
    "\n",
    "이렇게 사용하면 U 행렬, Sigma 행렬, V 전치 행렬(Vt)가 반환 됨."
   ]
  },
  {
   "cell_type": "code",
   "execution_count": 12,
   "metadata": {
    "id": "0FQrKQQAJofd"
   },
   "outputs": [],
   "source": [
    "# scipy에서 제공해주는 svd.  \n",
    "# U 행렬, sigma 행렬, V 전치 행렬을 Return\n",
    "\n",
    "U, sigma, Vt = svds(matrix_user_mean, k = 12)"
   ]
  },
  {
   "cell_type": "code",
   "execution_count": 13,
   "metadata": {
    "id": "lCBFOslZJofd",
    "outputId": "27e35dfc-ded4-45e3-f258-f33d55da4ff0"
   },
   "outputs": [
    {
     "name": "stdout",
     "output_type": "stream",
     "text": [
      "(671, 12)\n",
      "(12,)\n",
      "(12, 9066)\n"
     ]
    }
   ],
   "source": [
    "print(U.shape)\n",
    "print(sigma.shape)\n",
    "print(Vt.shape)"
   ]
  },
  {
   "cell_type": "markdown",
   "metadata": {
    "id": "JEs2N9FrJofd"
   },
   "source": [
    "현재 Sigma 행렬은 0이 아닌 값만 1차원 행렬로 표현된 상태임.\n",
    "\n",
    "- **즉, 0이 포함된 대칭행렬로 변환할 때는 numpy의 diag를 이용해야 함.**"
   ]
  },
  {
   "cell_type": "code",
   "execution_count": 14,
   "metadata": {
    "id": "7cHPt2gDJofd"
   },
   "outputs": [],
   "source": [
    "sigma = np.diag(sigma)"
   ]
  },
  {
   "cell_type": "code",
   "execution_count": 15,
   "metadata": {
    "id": "oQ63HYtZJofd",
    "outputId": "9c39e467-c03c-4edd-af4d-83e6931aedfc"
   },
   "outputs": [
    {
     "data": {
      "text/plain": [
       "(12, 12)"
      ]
     },
     "execution_count": 15,
     "metadata": {},
     "output_type": "execute_result"
    }
   ],
   "source": [
    "sigma.shape"
   ]
  },
  {
   "cell_type": "code",
   "execution_count": 16,
   "metadata": {
    "id": "Bl1oZzoFJofd",
    "outputId": "1c5470d6-17f1-4e56-d921-cde83ca530f0"
   },
   "outputs": [
    {
     "data": {
      "text/plain": [
       "array([105.72437051,   0.        ,   0.        ,   0.        ,\n",
       "         0.        ,   0.        ,   0.        ,   0.        ,\n",
       "         0.        ,   0.        ,   0.        ,   0.        ])"
      ]
     },
     "execution_count": 16,
     "metadata": {},
     "output_type": "execute_result"
    }
   ],
   "source": [
    "sigma[0]"
   ]
  },
  {
   "cell_type": "code",
   "execution_count": 17,
   "metadata": {
    "id": "-FneMtjUJofe",
    "outputId": "314aa488-089f-4681-ef92-8e764096f1ac"
   },
   "outputs": [
    {
     "data": {
      "text/plain": [
       "array([  0.        , 110.15522471,   0.        ,   0.        ,\n",
       "         0.        ,   0.        ,   0.        ,   0.        ,\n",
       "         0.        ,   0.        ,   0.        ,   0.        ])"
      ]
     },
     "execution_count": 17,
     "metadata": {},
     "output_type": "execute_result"
    }
   ],
   "source": [
    "sigma[1]"
   ]
  },
  {
   "cell_type": "markdown",
   "metadata": {
    "id": "QTmmpT4FJofe"
   },
   "source": [
    "위와 같이 **대칭 행렬로 변환된 것**을 확인할 수 있다.\n",
    "\n",
    "현재 까지 진행된 상황을 정리하면 다음과 같다.\n",
    "\n",
    "1. 원본 user-movie 평점 행렬이 있었음\n",
    "2. 이를 user의 평균 점수를 빼서 matrix_user_mean 이라는 행렬로 변환\n",
    "3. 2번의 값을 SVD를 적용해 U, Sigma, Vt 행렬을 구함\n",
    "4. Sigma 행렬은 현재 0이 포함이 되지 않은 값으로만 구성되어 있음. 이를 대칭행렬로 변환\n",
    "\n",
    "\n",
    "matrix_user_mean을 SVD를 적용해 분해를 한 상태이기 때문에 다시 원본 행렬로 복구해야 함.\n",
    "\n",
    "- U, Sigma, Vt의 내적을 수행 \n",
    "\n",
    "- 즉, np.dot(np.dot(U, sigma), Vt)를 수행하면 됨.\n",
    "\n",
    "- 추가로 아까 **사용자 평균을 빼주었으니** 평균을 더해주면 됨.\n"
   ]
  },
  {
   "cell_type": "code",
   "execution_count": 18,
   "metadata": {
    "id": "rYomObQQJofe"
   },
   "outputs": [],
   "source": [
    "# U, Sigma, Vt의 내적을 수행하면, 다시 원본 행렬로 복원 됨.\n",
    "# 거기에 + 사용자 평균 rating을 적용\n",
    "svd_user_predicted_ratings = np.dot(np.dot(U, sigma), Vt) + user_ratings_mean.reshape(-1, 1)"
   ]
  },
  {
   "cell_type": "code",
   "execution_count": 19,
   "metadata": {
    "id": "-iu0Kk4FJofe",
    "outputId": "570fe0cb-d9c0-4b2b-e014-91c3d5291ab3"
   },
   "outputs": [
    {
     "data": {
      "text/html": [
       "<div>\n",
       "<style scoped>\n",
       "    .dataframe tbody tr th:only-of-type {\n",
       "        vertical-align: middle;\n",
       "    }\n",
       "\n",
       "    .dataframe tbody tr th {\n",
       "        vertical-align: top;\n",
       "    }\n",
       "\n",
       "    .dataframe thead th {\n",
       "        text-align: right;\n",
       "    }\n",
       "</style>\n",
       "<table border=\"1\" class=\"dataframe\">\n",
       "  <thead>\n",
       "    <tr style=\"text-align: right;\">\n",
       "      <th>movieId</th>\n",
       "      <th>1</th>\n",
       "      <th>2</th>\n",
       "      <th>3</th>\n",
       "      <th>4</th>\n",
       "      <th>5</th>\n",
       "      <th>6</th>\n",
       "      <th>7</th>\n",
       "      <th>8</th>\n",
       "      <th>9</th>\n",
       "      <th>10</th>\n",
       "      <th>...</th>\n",
       "      <th>161084</th>\n",
       "      <th>161155</th>\n",
       "      <th>161594</th>\n",
       "      <th>161830</th>\n",
       "      <th>161918</th>\n",
       "      <th>161944</th>\n",
       "      <th>162376</th>\n",
       "      <th>162542</th>\n",
       "      <th>162672</th>\n",
       "      <th>163949</th>\n",
       "    </tr>\n",
       "  </thead>\n",
       "  <tbody>\n",
       "    <tr>\n",
       "      <th>0</th>\n",
       "      <td>-0.079686</td>\n",
       "      <td>0.021779</td>\n",
       "      <td>-0.013837</td>\n",
       "      <td>-0.005870</td>\n",
       "      <td>-0.028877</td>\n",
       "      <td>0.032371</td>\n",
       "      <td>0.000715</td>\n",
       "      <td>-0.004428</td>\n",
       "      <td>-0.005219</td>\n",
       "      <td>0.038195</td>\n",
       "      <td>...</td>\n",
       "      <td>-0.004324</td>\n",
       "      <td>-0.004352</td>\n",
       "      <td>0.010478</td>\n",
       "      <td>-0.004256</td>\n",
       "      <td>-0.003944</td>\n",
       "      <td>-0.005674</td>\n",
       "      <td>0.018157</td>\n",
       "      <td>-0.005575</td>\n",
       "      <td>-0.005297</td>\n",
       "      <td>-0.003766</td>\n",
       "    </tr>\n",
       "    <tr>\n",
       "      <th>1</th>\n",
       "      <td>1.428452</td>\n",
       "      <td>1.608841</td>\n",
       "      <td>0.529476</td>\n",
       "      <td>0.168278</td>\n",
       "      <td>0.520809</td>\n",
       "      <td>1.107473</td>\n",
       "      <td>0.529719</td>\n",
       "      <td>0.089376</td>\n",
       "      <td>0.296270</td>\n",
       "      <td>1.970031</td>\n",
       "      <td>...</td>\n",
       "      <td>0.013227</td>\n",
       "      <td>-0.002275</td>\n",
       "      <td>0.020680</td>\n",
       "      <td>-0.005245</td>\n",
       "      <td>-0.007644</td>\n",
       "      <td>-0.021019</td>\n",
       "      <td>0.031243</td>\n",
       "      <td>-0.000957</td>\n",
       "      <td>-0.000753</td>\n",
       "      <td>0.026901</td>\n",
       "    </tr>\n",
       "    <tr>\n",
       "      <th>2</th>\n",
       "      <td>0.977246</td>\n",
       "      <td>0.396971</td>\n",
       "      <td>0.000299</td>\n",
       "      <td>0.027444</td>\n",
       "      <td>0.021287</td>\n",
       "      <td>0.141458</td>\n",
       "      <td>-0.057134</td>\n",
       "      <td>0.031633</td>\n",
       "      <td>-0.012538</td>\n",
       "      <td>0.383576</td>\n",
       "      <td>...</td>\n",
       "      <td>0.002761</td>\n",
       "      <td>0.004907</td>\n",
       "      <td>-0.014190</td>\n",
       "      <td>-0.000251</td>\n",
       "      <td>-0.006007</td>\n",
       "      <td>-0.003189</td>\n",
       "      <td>-0.026916</td>\n",
       "      <td>0.014637</td>\n",
       "      <td>0.013287</td>\n",
       "      <td>-0.005741</td>\n",
       "    </tr>\n",
       "    <tr>\n",
       "      <th>3</th>\n",
       "      <td>1.870844</td>\n",
       "      <td>1.169993</td>\n",
       "      <td>0.252202</td>\n",
       "      <td>0.094831</td>\n",
       "      <td>-0.181713</td>\n",
       "      <td>-0.511953</td>\n",
       "      <td>-0.027820</td>\n",
       "      <td>-0.143080</td>\n",
       "      <td>0.013247</td>\n",
       "      <td>1.461694</td>\n",
       "      <td>...</td>\n",
       "      <td>0.026412</td>\n",
       "      <td>-0.027245</td>\n",
       "      <td>0.054681</td>\n",
       "      <td>0.018450</td>\n",
       "      <td>0.034544</td>\n",
       "      <td>-0.035740</td>\n",
       "      <td>0.088889</td>\n",
       "      <td>-0.019365</td>\n",
       "      <td>-0.017113</td>\n",
       "      <td>0.066559</td>\n",
       "    </tr>\n",
       "    <tr>\n",
       "      <th>4</th>\n",
       "      <td>1.182777</td>\n",
       "      <td>0.924903</td>\n",
       "      <td>0.075998</td>\n",
       "      <td>0.061505</td>\n",
       "      <td>0.602680</td>\n",
       "      <td>-0.159825</td>\n",
       "      <td>0.339925</td>\n",
       "      <td>0.081534</td>\n",
       "      <td>-0.079666</td>\n",
       "      <td>0.535018</td>\n",
       "      <td>...</td>\n",
       "      <td>-0.029124</td>\n",
       "      <td>-0.029357</td>\n",
       "      <td>0.009064</td>\n",
       "      <td>-0.029092</td>\n",
       "      <td>-0.030890</td>\n",
       "      <td>-0.057453</td>\n",
       "      <td>0.026344</td>\n",
       "      <td>-0.024027</td>\n",
       "      <td>-0.024614</td>\n",
       "      <td>-0.032752</td>\n",
       "    </tr>\n",
       "  </tbody>\n",
       "</table>\n",
       "<p>5 rows × 9066 columns</p>\n",
       "</div>"
      ],
      "text/plain": [
       "movieId    1         2         3         4         5         6         7       \\\n",
       "0       -0.079686  0.021779 -0.013837 -0.005870 -0.028877  0.032371  0.000715   \n",
       "1        1.428452  1.608841  0.529476  0.168278  0.520809  1.107473  0.529719   \n",
       "2        0.977246  0.396971  0.000299  0.027444  0.021287  0.141458 -0.057134   \n",
       "3        1.870844  1.169993  0.252202  0.094831 -0.181713 -0.511953 -0.027820   \n",
       "4        1.182777  0.924903  0.075998  0.061505  0.602680 -0.159825  0.339925   \n",
       "\n",
       "movieId    8         9         10      ...    161084    161155    161594  \\\n",
       "0       -0.004428 -0.005219  0.038195  ... -0.004324 -0.004352  0.010478   \n",
       "1        0.089376  0.296270  1.970031  ...  0.013227 -0.002275  0.020680   \n",
       "2        0.031633 -0.012538  0.383576  ...  0.002761  0.004907 -0.014190   \n",
       "3       -0.143080  0.013247  1.461694  ...  0.026412 -0.027245  0.054681   \n",
       "4        0.081534 -0.079666  0.535018  ... -0.029124 -0.029357  0.009064   \n",
       "\n",
       "movieId    161830    161918    161944    162376    162542    162672    163949  \n",
       "0       -0.004256 -0.003944 -0.005674  0.018157 -0.005575 -0.005297 -0.003766  \n",
       "1       -0.005245 -0.007644 -0.021019  0.031243 -0.000957 -0.000753  0.026901  \n",
       "2       -0.000251 -0.006007 -0.003189 -0.026916  0.014637  0.013287 -0.005741  \n",
       "3        0.018450  0.034544 -0.035740  0.088889 -0.019365 -0.017113  0.066559  \n",
       "4       -0.029092 -0.030890 -0.057453  0.026344 -0.024027 -0.024614 -0.032752  \n",
       "\n",
       "[5 rows x 9066 columns]"
      ]
     },
     "execution_count": 19,
     "metadata": {},
     "output_type": "execute_result"
    }
   ],
   "source": [
    "df_svd_preds = pd.DataFrame(svd_user_predicted_ratings, columns = df_user_movie_ratings.columns)\n",
    "df_svd_preds.head()"
   ]
  },
  {
   "cell_type": "code",
   "execution_count": 20,
   "metadata": {
    "id": "VgGu8WgsJofe",
    "outputId": "ed6bab48-56ad-4e9c-e388-7f31e2c14e27"
   },
   "outputs": [
    {
     "data": {
      "text/plain": [
       "(671, 9066)"
      ]
     },
     "execution_count": 20,
     "metadata": {},
     "output_type": "execute_result"
    }
   ],
   "source": [
    "df_svd_preds.shape"
   ]
  },
  {
   "cell_type": "markdown",
   "metadata": {
    "id": "71BDa7GrJofe"
   },
   "source": [
    "마지막으로 아래의 기능을 수행하는 함수를 생성해야 함.\n",
    "\n",
    "- 인자로 사용자 아이디, 영화 정보 테이블, 평점 테이블 등을 받음\n",
    "- 사용자 아이디에 SVD로 나온 결과의 영화 평점이 가장 높은 데이터 순으로 정렬\n",
    "- 사용자가 본 데이터를 제외\n",
    "- 사용자가 본적 없는 영화에서 평점이 높은 것을 추천"
   ]
  },
  {
   "cell_type": "code",
   "execution_count": 21,
   "metadata": {
    "id": "GsxJwNTrJofe"
   },
   "outputs": [],
   "source": [
    "def recommend_movies(df_svd_preds, user_id, ori_movies_df, ori_ratings_df, num_recommendations=5):\n",
    "    \n",
    "    #현재는 index로 적용이 되어있으므로 user_id - 1을 해야함.\n",
    "    user_row_number = user_id - 1 \n",
    "    \n",
    "    # 최종적으로 만든 pred_df에서 사용자 index에 따라 영화 데이터 정렬 -> 영화 평점이 높은 순으로 정렬 됌\n",
    "    sorted_user_predictions = df_svd_preds.iloc[user_row_number].sort_values(ascending=False)\n",
    "    \n",
    "    # 원본 평점 데이터에서 user id에 해당하는 데이터를 뽑아낸다. \n",
    "    user_data = ori_ratings_df[ori_ratings_df.userId == user_id]\n",
    "    \n",
    "    # 위에서 뽑은 user_data와 원본 영화 데이터를 합친다. \n",
    "    user_history = user_data.merge(ori_movies_df, on = 'movieId').sort_values(['rating'], ascending=False)\n",
    "    \n",
    "    # 원본 영화 데이터에서 사용자가 본 영화 데이터를 제외한 데이터를 추출\n",
    "    recommendations = ori_movies_df[~ori_movies_df['movieId'].isin(user_history['movieId'])]\n",
    "\n",
    "    # 사용자의 영화 평점이 높은 순으로 정렬된 데이터와 위 recommendations을 합친다. \n",
    "    recommendations = recommendations.merge(pd.DataFrame(sorted_user_predictions).reset_index(), on = 'movieId')\n",
    "\n",
    "    # 컬럼 이름 바꾸고 정렬해서 return\n",
    "    recommendations = recommendations.rename(columns = {user_row_number: 'Predictions'}).sort_values('Predictions', ascending = False).iloc[:num_recommendations, :]\n",
    "\n",
    "\n",
    "    return user_history, recommendations"
   ]
  },
  {
   "cell_type": "code",
   "execution_count": 22,
   "metadata": {
    "id": "Dpqlm6G-Joff"
   },
   "outputs": [],
   "source": [
    "already_rated, predictions = recommend_movies(df_svd_preds, 330, df_movies, df_ratings, 10)"
   ]
  },
  {
   "cell_type": "code",
   "execution_count": 23,
   "metadata": {
    "id": "8_oB7YNaJoff",
    "outputId": "957d5369-0cea-47df-81be-22d8725e5a70"
   },
   "outputs": [
    {
     "data": {
      "text/html": [
       "<div>\n",
       "<style scoped>\n",
       "    .dataframe tbody tr th:only-of-type {\n",
       "        vertical-align: middle;\n",
       "    }\n",
       "\n",
       "    .dataframe tbody tr th {\n",
       "        vertical-align: top;\n",
       "    }\n",
       "\n",
       "    .dataframe thead th {\n",
       "        text-align: right;\n",
       "    }\n",
       "</style>\n",
       "<table border=\"1\" class=\"dataframe\">\n",
       "  <thead>\n",
       "    <tr style=\"text-align: right;\">\n",
       "      <th></th>\n",
       "      <th>userId</th>\n",
       "      <th>movieId</th>\n",
       "      <th>rating</th>\n",
       "      <th>timestamp</th>\n",
       "      <th>title</th>\n",
       "      <th>genres</th>\n",
       "    </tr>\n",
       "  </thead>\n",
       "  <tbody>\n",
       "    <tr>\n",
       "      <th>47</th>\n",
       "      <td>330</td>\n",
       "      <td>1094</td>\n",
       "      <td>5.0</td>\n",
       "      <td>948577200</td>\n",
       "      <td>Crying Game, The (1992)</td>\n",
       "      <td>Drama|Romance|Thriller</td>\n",
       "    </tr>\n",
       "    <tr>\n",
       "      <th>14</th>\n",
       "      <td>330</td>\n",
       "      <td>213</td>\n",
       "      <td>5.0</td>\n",
       "      <td>948577039</td>\n",
       "      <td>Burnt by the Sun (Utomlyonnye solntsem) (1994)</td>\n",
       "      <td>Drama</td>\n",
       "    </tr>\n",
       "    <tr>\n",
       "      <th>34</th>\n",
       "      <td>330</td>\n",
       "      <td>527</td>\n",
       "      <td>5.0</td>\n",
       "      <td>948577164</td>\n",
       "      <td>Schindler's List (1993)</td>\n",
       "      <td>Drama|War</td>\n",
       "    </tr>\n",
       "    <tr>\n",
       "      <th>45</th>\n",
       "      <td>330</td>\n",
       "      <td>1035</td>\n",
       "      <td>5.0</td>\n",
       "      <td>948574126</td>\n",
       "      <td>Sound of Music, The (1965)</td>\n",
       "      <td>Musical|Romance</td>\n",
       "    </tr>\n",
       "    <tr>\n",
       "      <th>48</th>\n",
       "      <td>330</td>\n",
       "      <td>1172</td>\n",
       "      <td>5.0</td>\n",
       "      <td>948575236</td>\n",
       "      <td>Cinema Paradiso (Nuovo cinema Paradiso) (1989)</td>\n",
       "      <td>Drama</td>\n",
       "    </tr>\n",
       "    <tr>\n",
       "      <th>53</th>\n",
       "      <td>330</td>\n",
       "      <td>1249</td>\n",
       "      <td>5.0</td>\n",
       "      <td>948576522</td>\n",
       "      <td>Femme Nikita, La (Nikita) (1990)</td>\n",
       "      <td>Action|Crime|Romance|Thriller</td>\n",
       "    </tr>\n",
       "    <tr>\n",
       "      <th>27</th>\n",
       "      <td>330</td>\n",
       "      <td>373</td>\n",
       "      <td>5.0</td>\n",
       "      <td>948576522</td>\n",
       "      <td>Red Rock West (1992)</td>\n",
       "      <td>Thriller</td>\n",
       "    </tr>\n",
       "    <tr>\n",
       "      <th>58</th>\n",
       "      <td>330</td>\n",
       "      <td>1428</td>\n",
       "      <td>5.0</td>\n",
       "      <td>948731410</td>\n",
       "      <td>Angel Baby (1995)</td>\n",
       "      <td>Drama</td>\n",
       "    </tr>\n",
       "    <tr>\n",
       "      <th>61</th>\n",
       "      <td>330</td>\n",
       "      <td>1575</td>\n",
       "      <td>5.0</td>\n",
       "      <td>948577442</td>\n",
       "      <td>Gabbeh (1996)</td>\n",
       "      <td>Drama</td>\n",
       "    </tr>\n",
       "    <tr>\n",
       "      <th>67</th>\n",
       "      <td>330</td>\n",
       "      <td>1683</td>\n",
       "      <td>5.0</td>\n",
       "      <td>948578017</td>\n",
       "      <td>Wings of the Dove, The (1997)</td>\n",
       "      <td>Drama|Romance</td>\n",
       "    </tr>\n",
       "  </tbody>\n",
       "</table>\n",
       "</div>"
      ],
      "text/plain": [
       "    userId  movieId  rating  timestamp  \\\n",
       "47     330     1094     5.0  948577200   \n",
       "14     330      213     5.0  948577039   \n",
       "34     330      527     5.0  948577164   \n",
       "45     330     1035     5.0  948574126   \n",
       "48     330     1172     5.0  948575236   \n",
       "53     330     1249     5.0  948576522   \n",
       "27     330      373     5.0  948576522   \n",
       "58     330     1428     5.0  948731410   \n",
       "61     330     1575     5.0  948577442   \n",
       "67     330     1683     5.0  948578017   \n",
       "\n",
       "                                             title  \\\n",
       "47                         Crying Game, The (1992)   \n",
       "14  Burnt by the Sun (Utomlyonnye solntsem) (1994)   \n",
       "34                         Schindler's List (1993)   \n",
       "45                      Sound of Music, The (1965)   \n",
       "48  Cinema Paradiso (Nuovo cinema Paradiso) (1989)   \n",
       "53                Femme Nikita, La (Nikita) (1990)   \n",
       "27                            Red Rock West (1992)   \n",
       "58                               Angel Baby (1995)   \n",
       "61                                   Gabbeh (1996)   \n",
       "67                   Wings of the Dove, The (1997)   \n",
       "\n",
       "                           genres  \n",
       "47         Drama|Romance|Thriller  \n",
       "14                          Drama  \n",
       "34                      Drama|War  \n",
       "45                Musical|Romance  \n",
       "48                          Drama  \n",
       "53  Action|Crime|Romance|Thriller  \n",
       "27                       Thriller  \n",
       "58                          Drama  \n",
       "61                          Drama  \n",
       "67                  Drama|Romance  "
      ]
     },
     "execution_count": 23,
     "metadata": {},
     "output_type": "execute_result"
    }
   ],
   "source": [
    "# 원본 영화 데이터와 원본 평점 데이터에서 사용자 id에 해당된 데이터를 merge한 데이터\n",
    "\n",
    "already_rated.head(10)"
   ]
  },
  {
   "cell_type": "code",
   "execution_count": 24,
   "metadata": {
    "id": "zB0haR5zJoff",
    "outputId": "7a7db175-334e-4c74-86a3-a05ba0bd14b1"
   },
   "outputs": [
    {
     "data": {
      "text/html": [
       "<div>\n",
       "<style scoped>\n",
       "    .dataframe tbody tr th:only-of-type {\n",
       "        vertical-align: middle;\n",
       "    }\n",
       "\n",
       "    .dataframe tbody tr th {\n",
       "        vertical-align: top;\n",
       "    }\n",
       "\n",
       "    .dataframe thead th {\n",
       "        text-align: right;\n",
       "    }\n",
       "</style>\n",
       "<table border=\"1\" class=\"dataframe\">\n",
       "  <thead>\n",
       "    <tr style=\"text-align: right;\">\n",
       "      <th></th>\n",
       "      <th>movieId</th>\n",
       "      <th>title</th>\n",
       "      <th>genres</th>\n",
       "      <th>Predictions</th>\n",
       "    </tr>\n",
       "  </thead>\n",
       "  <tbody>\n",
       "    <tr>\n",
       "      <th>246</th>\n",
       "      <td>296</td>\n",
       "      <td>Pulp Fiction (1994)</td>\n",
       "      <td>Comedy|Crime|Drama|Thriller</td>\n",
       "      <td>2.060064</td>\n",
       "    </tr>\n",
       "    <tr>\n",
       "      <th>294</th>\n",
       "      <td>356</td>\n",
       "      <td>Forrest Gump (1994)</td>\n",
       "      <td>Comedy|Drama|Romance|War</td>\n",
       "      <td>1.772814</td>\n",
       "    </tr>\n",
       "    <tr>\n",
       "      <th>497</th>\n",
       "      <td>608</td>\n",
       "      <td>Fargo (1996)</td>\n",
       "      <td>Comedy|Crime|Drama|Thriller</td>\n",
       "      <td>1.526111</td>\n",
       "    </tr>\n",
       "    <tr>\n",
       "      <th>487</th>\n",
       "      <td>590</td>\n",
       "      <td>Dances with Wolves (1990)</td>\n",
       "      <td>Adventure|Drama|Western</td>\n",
       "      <td>1.508960</td>\n",
       "    </tr>\n",
       "    <tr>\n",
       "      <th>316</th>\n",
       "      <td>380</td>\n",
       "      <td>True Lies (1994)</td>\n",
       "      <td>Action|Adventure|Comedy|Romance|Thriller</td>\n",
       "      <td>1.276646</td>\n",
       "    </tr>\n",
       "    <tr>\n",
       "      <th>40</th>\n",
       "      <td>47</td>\n",
       "      <td>Seven (a.k.a. Se7en) (1995)</td>\n",
       "      <td>Mystery|Thriller</td>\n",
       "      <td>1.265219</td>\n",
       "    </tr>\n",
       "    <tr>\n",
       "      <th>313</th>\n",
       "      <td>377</td>\n",
       "      <td>Speed (1994)</td>\n",
       "      <td>Action|Romance|Thriller</td>\n",
       "      <td>1.142113</td>\n",
       "    </tr>\n",
       "    <tr>\n",
       "      <th>214</th>\n",
       "      <td>260</td>\n",
       "      <td>Star Wars: Episode IV - A New Hope (1977)</td>\n",
       "      <td>Action|Adventure|Sci-Fi</td>\n",
       "      <td>1.076539</td>\n",
       "    </tr>\n",
       "    <tr>\n",
       "      <th>295</th>\n",
       "      <td>357</td>\n",
       "      <td>Four Weddings and a Funeral (1994)</td>\n",
       "      <td>Comedy|Romance</td>\n",
       "      <td>1.065911</td>\n",
       "    </tr>\n",
       "    <tr>\n",
       "      <th>488</th>\n",
       "      <td>592</td>\n",
       "      <td>Batman (1989)</td>\n",
       "      <td>Action|Crime|Thriller</td>\n",
       "      <td>1.048861</td>\n",
       "    </tr>\n",
       "  </tbody>\n",
       "</table>\n",
       "</div>"
      ],
      "text/plain": [
       "     movieId                                      title  \\\n",
       "246      296                        Pulp Fiction (1994)   \n",
       "294      356                        Forrest Gump (1994)   \n",
       "497      608                               Fargo (1996)   \n",
       "487      590                  Dances with Wolves (1990)   \n",
       "316      380                           True Lies (1994)   \n",
       "40        47                Seven (a.k.a. Se7en) (1995)   \n",
       "313      377                               Speed (1994)   \n",
       "214      260  Star Wars: Episode IV - A New Hope (1977)   \n",
       "295      357         Four Weddings and a Funeral (1994)   \n",
       "488      592                              Batman (1989)   \n",
       "\n",
       "                                       genres  Predictions  \n",
       "246               Comedy|Crime|Drama|Thriller     2.060064  \n",
       "294                  Comedy|Drama|Romance|War     1.772814  \n",
       "497               Comedy|Crime|Drama|Thriller     1.526111  \n",
       "487                   Adventure|Drama|Western     1.508960  \n",
       "316  Action|Adventure|Comedy|Romance|Thriller     1.276646  \n",
       "40                           Mystery|Thriller     1.265219  \n",
       "313                   Action|Romance|Thriller     1.142113  \n",
       "214                   Action|Adventure|Sci-Fi     1.076539  \n",
       "295                            Comedy|Romance     1.065911  \n",
       "488                     Action|Crime|Thriller     1.048861  "
      ]
     },
     "execution_count": 24,
     "metadata": {},
     "output_type": "execute_result"
    }
   ],
   "source": [
    "# 추천 결과\n",
    "\n",
    "predictions"
   ]
  },
  {
   "cell_type": "code",
   "execution_count": null,
   "metadata": {},
   "outputs": [],
   "source": []
  }
 ],
 "metadata": {
  "colab": {
   "authorship_tag": "ABX9TyMEJ1e4XZOjgslgJi9Tg6Vs",
   "collapsed_sections": [],
   "name": "04. 개인화 추천.ipynb",
   "provenance": []
  },
  "kernelspec": {
   "display_name": "Python 3 (ipykernel)",
   "language": "python",
   "name": "python3"
  },
  "language_info": {
   "codemirror_mode": {
    "name": "ipython",
    "version": 3
   },
   "file_extension": ".py",
   "mimetype": "text/x-python",
   "name": "python",
   "nbconvert_exporter": "python",
   "pygments_lexer": "ipython3",
   "version": "3.7.0"
  }
 },
 "nbformat": 4,
 "nbformat_minor": 1
}
