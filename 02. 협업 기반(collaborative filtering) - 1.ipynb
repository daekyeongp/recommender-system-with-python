{
 "cells": [
  {
   "cell_type": "markdown",
   "metadata": {
    "id": "3AJHbDTQ-b8y"
   },
   "source": [
    "### 사용된 데이터 세트\n",
    "\n",
    "- **The movies Dataset (https://www.kaggle.com/rounakbanik/the-movies-dataset)**"
   ]
  },
  {
   "cell_type": "markdown",
   "metadata": {
    "id": "mFOHy2D8-66K"
   },
   "source": [
    "### 데이터 전처리"
   ]
  },
  {
   "cell_type": "code",
   "execution_count": 1,
   "metadata": {
    "id": "Mq9lFcez-b81"
   },
   "outputs": [],
   "source": [
    "import pandas as pd\n",
    "import numpy as np\n",
    "import matplotlib.pyplot as plt\n",
    "import seaborn as sns\n",
    "from ast import literal_eval\n",
    "from sklearn.feature_extraction.text import TfidfVectorizer\n",
    "from sklearn.feature_extraction.text import CountVectorizer\n",
    "from sklearn.metrics.pairwise import cosine_similarity"
   ]
  },
  {
   "cell_type": "code",
   "execution_count": 2,
   "metadata": {
    "id": "su5ABEFu-b82"
   },
   "outputs": [],
   "source": [
    "data = pd.read_csv('./dataset/ratings_small.csv')"
   ]
  },
  {
   "cell_type": "code",
   "execution_count": 3,
   "metadata": {
    "id": "-muhyPkY-b82",
    "outputId": "9e8dfa47-38d6-4a59-d442-b3fc435443ac"
   },
   "outputs": [
    {
     "data": {
      "text/html": [
       "<div>\n",
       "<style scoped>\n",
       "    .dataframe tbody tr th:only-of-type {\n",
       "        vertical-align: middle;\n",
       "    }\n",
       "\n",
       "    .dataframe tbody tr th {\n",
       "        vertical-align: top;\n",
       "    }\n",
       "\n",
       "    .dataframe thead th {\n",
       "        text-align: right;\n",
       "    }\n",
       "</style>\n",
       "<table border=\"1\" class=\"dataframe\">\n",
       "  <thead>\n",
       "    <tr style=\"text-align: right;\">\n",
       "      <th></th>\n",
       "      <th>userId</th>\n",
       "      <th>movieId</th>\n",
       "      <th>rating</th>\n",
       "      <th>timestamp</th>\n",
       "    </tr>\n",
       "  </thead>\n",
       "  <tbody>\n",
       "    <tr>\n",
       "      <th>0</th>\n",
       "      <td>1</td>\n",
       "      <td>31</td>\n",
       "      <td>2.5</td>\n",
       "      <td>1260759144</td>\n",
       "    </tr>\n",
       "    <tr>\n",
       "      <th>1</th>\n",
       "      <td>1</td>\n",
       "      <td>1029</td>\n",
       "      <td>3.0</td>\n",
       "      <td>1260759179</td>\n",
       "    </tr>\n",
       "    <tr>\n",
       "      <th>2</th>\n",
       "      <td>1</td>\n",
       "      <td>1061</td>\n",
       "      <td>3.0</td>\n",
       "      <td>1260759182</td>\n",
       "    </tr>\n",
       "    <tr>\n",
       "      <th>3</th>\n",
       "      <td>1</td>\n",
       "      <td>1129</td>\n",
       "      <td>2.0</td>\n",
       "      <td>1260759185</td>\n",
       "    </tr>\n",
       "    <tr>\n",
       "      <th>4</th>\n",
       "      <td>1</td>\n",
       "      <td>1172</td>\n",
       "      <td>4.0</td>\n",
       "      <td>1260759205</td>\n",
       "    </tr>\n",
       "  </tbody>\n",
       "</table>\n",
       "</div>"
      ],
      "text/plain": [
       "   userId  movieId  rating   timestamp\n",
       "0       1       31     2.5  1260759144\n",
       "1       1     1029     3.0  1260759179\n",
       "2       1     1061     3.0  1260759182\n",
       "3       1     1129     2.0  1260759185\n",
       "4       1     1172     4.0  1260759205"
      ]
     },
     "execution_count": 3,
     "metadata": {},
     "output_type": "execute_result"
    }
   ],
   "source": [
    "data.head()"
   ]
  },
  {
   "cell_type": "markdown",
   "metadata": {
    "id": "Qi-tPR_V-b83"
   },
   "source": [
    "**userId 컬럼과 movieId 컬럼**이 따로따로 존재합니다.   \n",
    "아이템 기반 협업 필터링(item based collaborative filtering) 기반으로 추천 시스템을 만들기 위해서는,\n",
    "\n",
    " user-item 테이블로 만들어주어야 함.\n",
    "\n",
    "이는 pivot_table을 이용해서 만들 수 있음."
   ]
  },
  {
   "cell_type": "code",
   "execution_count": 4,
   "metadata": {
    "id": "zgpylQzR-b83"
   },
   "outputs": [],
   "source": [
    "data = data.pivot_table('rating', index = 'userId', columns = 'movieId')"
   ]
  },
  {
   "cell_type": "code",
   "execution_count": 5,
   "metadata": {
    "id": "fyNMKkht-b84",
    "outputId": "698e1431-c4b3-476a-ccd8-145f08ea04a2"
   },
   "outputs": [
    {
     "data": {
      "text/html": [
       "<div>\n",
       "<style scoped>\n",
       "    .dataframe tbody tr th:only-of-type {\n",
       "        vertical-align: middle;\n",
       "    }\n",
       "\n",
       "    .dataframe tbody tr th {\n",
       "        vertical-align: top;\n",
       "    }\n",
       "\n",
       "    .dataframe thead th {\n",
       "        text-align: right;\n",
       "    }\n",
       "</style>\n",
       "<table border=\"1\" class=\"dataframe\">\n",
       "  <thead>\n",
       "    <tr style=\"text-align: right;\">\n",
       "      <th>movieId</th>\n",
       "      <th>1</th>\n",
       "      <th>2</th>\n",
       "      <th>3</th>\n",
       "      <th>4</th>\n",
       "      <th>5</th>\n",
       "      <th>6</th>\n",
       "      <th>7</th>\n",
       "      <th>8</th>\n",
       "      <th>9</th>\n",
       "      <th>10</th>\n",
       "      <th>...</th>\n",
       "      <th>161084</th>\n",
       "      <th>161155</th>\n",
       "      <th>161594</th>\n",
       "      <th>161830</th>\n",
       "      <th>161918</th>\n",
       "      <th>161944</th>\n",
       "      <th>162376</th>\n",
       "      <th>162542</th>\n",
       "      <th>162672</th>\n",
       "      <th>163949</th>\n",
       "    </tr>\n",
       "    <tr>\n",
       "      <th>userId</th>\n",
       "      <th></th>\n",
       "      <th></th>\n",
       "      <th></th>\n",
       "      <th></th>\n",
       "      <th></th>\n",
       "      <th></th>\n",
       "      <th></th>\n",
       "      <th></th>\n",
       "      <th></th>\n",
       "      <th></th>\n",
       "      <th></th>\n",
       "      <th></th>\n",
       "      <th></th>\n",
       "      <th></th>\n",
       "      <th></th>\n",
       "      <th></th>\n",
       "      <th></th>\n",
       "      <th></th>\n",
       "      <th></th>\n",
       "      <th></th>\n",
       "      <th></th>\n",
       "    </tr>\n",
       "  </thead>\n",
       "  <tbody>\n",
       "    <tr>\n",
       "      <th>1</th>\n",
       "      <td>NaN</td>\n",
       "      <td>NaN</td>\n",
       "      <td>NaN</td>\n",
       "      <td>NaN</td>\n",
       "      <td>NaN</td>\n",
       "      <td>NaN</td>\n",
       "      <td>NaN</td>\n",
       "      <td>NaN</td>\n",
       "      <td>NaN</td>\n",
       "      <td>NaN</td>\n",
       "      <td>...</td>\n",
       "      <td>NaN</td>\n",
       "      <td>NaN</td>\n",
       "      <td>NaN</td>\n",
       "      <td>NaN</td>\n",
       "      <td>NaN</td>\n",
       "      <td>NaN</td>\n",
       "      <td>NaN</td>\n",
       "      <td>NaN</td>\n",
       "      <td>NaN</td>\n",
       "      <td>NaN</td>\n",
       "    </tr>\n",
       "    <tr>\n",
       "      <th>2</th>\n",
       "      <td>NaN</td>\n",
       "      <td>NaN</td>\n",
       "      <td>NaN</td>\n",
       "      <td>NaN</td>\n",
       "      <td>NaN</td>\n",
       "      <td>NaN</td>\n",
       "      <td>NaN</td>\n",
       "      <td>NaN</td>\n",
       "      <td>NaN</td>\n",
       "      <td>4.0</td>\n",
       "      <td>...</td>\n",
       "      <td>NaN</td>\n",
       "      <td>NaN</td>\n",
       "      <td>NaN</td>\n",
       "      <td>NaN</td>\n",
       "      <td>NaN</td>\n",
       "      <td>NaN</td>\n",
       "      <td>NaN</td>\n",
       "      <td>NaN</td>\n",
       "      <td>NaN</td>\n",
       "      <td>NaN</td>\n",
       "    </tr>\n",
       "    <tr>\n",
       "      <th>3</th>\n",
       "      <td>NaN</td>\n",
       "      <td>NaN</td>\n",
       "      <td>NaN</td>\n",
       "      <td>NaN</td>\n",
       "      <td>NaN</td>\n",
       "      <td>NaN</td>\n",
       "      <td>NaN</td>\n",
       "      <td>NaN</td>\n",
       "      <td>NaN</td>\n",
       "      <td>NaN</td>\n",
       "      <td>...</td>\n",
       "      <td>NaN</td>\n",
       "      <td>NaN</td>\n",
       "      <td>NaN</td>\n",
       "      <td>NaN</td>\n",
       "      <td>NaN</td>\n",
       "      <td>NaN</td>\n",
       "      <td>NaN</td>\n",
       "      <td>NaN</td>\n",
       "      <td>NaN</td>\n",
       "      <td>NaN</td>\n",
       "    </tr>\n",
       "    <tr>\n",
       "      <th>4</th>\n",
       "      <td>NaN</td>\n",
       "      <td>NaN</td>\n",
       "      <td>NaN</td>\n",
       "      <td>NaN</td>\n",
       "      <td>NaN</td>\n",
       "      <td>NaN</td>\n",
       "      <td>NaN</td>\n",
       "      <td>NaN</td>\n",
       "      <td>NaN</td>\n",
       "      <td>4.0</td>\n",
       "      <td>...</td>\n",
       "      <td>NaN</td>\n",
       "      <td>NaN</td>\n",
       "      <td>NaN</td>\n",
       "      <td>NaN</td>\n",
       "      <td>NaN</td>\n",
       "      <td>NaN</td>\n",
       "      <td>NaN</td>\n",
       "      <td>NaN</td>\n",
       "      <td>NaN</td>\n",
       "      <td>NaN</td>\n",
       "    </tr>\n",
       "    <tr>\n",
       "      <th>5</th>\n",
       "      <td>NaN</td>\n",
       "      <td>NaN</td>\n",
       "      <td>4.0</td>\n",
       "      <td>NaN</td>\n",
       "      <td>NaN</td>\n",
       "      <td>NaN</td>\n",
       "      <td>NaN</td>\n",
       "      <td>NaN</td>\n",
       "      <td>NaN</td>\n",
       "      <td>NaN</td>\n",
       "      <td>...</td>\n",
       "      <td>NaN</td>\n",
       "      <td>NaN</td>\n",
       "      <td>NaN</td>\n",
       "      <td>NaN</td>\n",
       "      <td>NaN</td>\n",
       "      <td>NaN</td>\n",
       "      <td>NaN</td>\n",
       "      <td>NaN</td>\n",
       "      <td>NaN</td>\n",
       "      <td>NaN</td>\n",
       "    </tr>\n",
       "  </tbody>\n",
       "</table>\n",
       "<p>5 rows × 9066 columns</p>\n",
       "</div>"
      ],
      "text/plain": [
       "movieId  1       2       3       4       5       6       7       8       \\\n",
       "userId                                                                    \n",
       "1           NaN     NaN     NaN     NaN     NaN     NaN     NaN     NaN   \n",
       "2           NaN     NaN     NaN     NaN     NaN     NaN     NaN     NaN   \n",
       "3           NaN     NaN     NaN     NaN     NaN     NaN     NaN     NaN   \n",
       "4           NaN     NaN     NaN     NaN     NaN     NaN     NaN     NaN   \n",
       "5           NaN     NaN     4.0     NaN     NaN     NaN     NaN     NaN   \n",
       "\n",
       "movieId  9       10      ...  161084  161155  161594  161830  161918  161944  \\\n",
       "userId                   ...                                                   \n",
       "1           NaN     NaN  ...     NaN     NaN     NaN     NaN     NaN     NaN   \n",
       "2           NaN     4.0  ...     NaN     NaN     NaN     NaN     NaN     NaN   \n",
       "3           NaN     NaN  ...     NaN     NaN     NaN     NaN     NaN     NaN   \n",
       "4           NaN     4.0  ...     NaN     NaN     NaN     NaN     NaN     NaN   \n",
       "5           NaN     NaN  ...     NaN     NaN     NaN     NaN     NaN     NaN   \n",
       "\n",
       "movieId  162376  162542  162672  163949  \n",
       "userId                                   \n",
       "1           NaN     NaN     NaN     NaN  \n",
       "2           NaN     NaN     NaN     NaN  \n",
       "3           NaN     NaN     NaN     NaN  \n",
       "4           NaN     NaN     NaN     NaN  \n",
       "5           NaN     NaN     NaN     NaN  \n",
       "\n",
       "[5 rows x 9066 columns]"
      ]
     },
     "execution_count": 5,
     "metadata": {},
     "output_type": "execute_result"
    }
   ],
   "source": [
    "data.head()"
   ]
  },
  {
   "cell_type": "code",
   "execution_count": 6,
   "metadata": {
    "id": "q4izb9u7-b84",
    "outputId": "6cc46186-c0e5-471a-b102-f4e79daf1051"
   },
   "outputs": [
    {
     "data": {
      "text/plain": [
       "(671, 9066)"
      ]
     },
     "execution_count": 6,
     "metadata": {},
     "output_type": "execute_result"
    }
   ],
   "source": [
    "data.shape"
   ]
  },
  {
   "cell_type": "markdown",
   "metadata": {
    "id": "p_Q6FnXp-b85"
   },
   "source": [
    "위와 같이 **사용자 아이디 별** 영화에 대한 **평점**을 볼 수 있는 테이블이 만들어지게 됨.\n",
    "\n",
    "하지만 이 데이터는 **영화 id가 있지만 영화 title**이 없다는 문제가 있기 때문에, 영화 title을 가져와서 **merge**해서 해결해야함."
   ]
  },
  {
   "cell_type": "code",
   "execution_count": 7,
   "metadata": {
    "id": "k_Nv5Sjv-b85"
   },
   "outputs": [],
   "source": [
    "ratings = pd.read_csv('./dataset/ratings_small.csv')\n",
    "movies = pd.read_csv('./dataset/tmdb_5000_movies.csv')"
   ]
  },
  {
   "cell_type": "code",
   "execution_count": 8,
   "metadata": {
    "id": "v6B4Tx3i-b86"
   },
   "outputs": [],
   "source": [
    "movies.rename(columns = {'id': 'movieId'}, inplace = True)"
   ]
  },
  {
   "cell_type": "code",
   "execution_count": 9,
   "metadata": {
    "id": "GRqcMs3p-b86"
   },
   "outputs": [],
   "source": [
    "ratings_movies = pd.merge(ratings, movies, on = 'movieId')"
   ]
  },
  {
   "cell_type": "code",
   "execution_count": 10,
   "metadata": {
    "id": "9M8Mm-dH-b86",
    "outputId": "ef3c2c3a-b77e-48cf-a85b-9ee7d6791e67"
   },
   "outputs": [
    {
     "data": {
      "text/html": [
       "<div>\n",
       "<style scoped>\n",
       "    .dataframe tbody tr th:only-of-type {\n",
       "        vertical-align: middle;\n",
       "    }\n",
       "\n",
       "    .dataframe tbody tr th {\n",
       "        vertical-align: top;\n",
       "    }\n",
       "\n",
       "    .dataframe thead th {\n",
       "        text-align: right;\n",
       "    }\n",
       "</style>\n",
       "<table border=\"1\" class=\"dataframe\">\n",
       "  <thead>\n",
       "    <tr style=\"text-align: right;\">\n",
       "      <th></th>\n",
       "      <th>userId</th>\n",
       "      <th>movieId</th>\n",
       "      <th>rating</th>\n",
       "      <th>timestamp</th>\n",
       "      <th>budget</th>\n",
       "      <th>genres</th>\n",
       "      <th>homepage</th>\n",
       "      <th>keywords</th>\n",
       "      <th>original_language</th>\n",
       "      <th>original_title</th>\n",
       "      <th>...</th>\n",
       "      <th>production_countries</th>\n",
       "      <th>release_date</th>\n",
       "      <th>revenue</th>\n",
       "      <th>runtime</th>\n",
       "      <th>spoken_languages</th>\n",
       "      <th>status</th>\n",
       "      <th>tagline</th>\n",
       "      <th>title</th>\n",
       "      <th>vote_average</th>\n",
       "      <th>vote_count</th>\n",
       "    </tr>\n",
       "  </thead>\n",
       "  <tbody>\n",
       "    <tr>\n",
       "      <th>0</th>\n",
       "      <td>1</td>\n",
       "      <td>2105</td>\n",
       "      <td>4.0</td>\n",
       "      <td>1260759139</td>\n",
       "      <td>11000000</td>\n",
       "      <td>[{\"id\": 35, \"name\": \"Comedy\"}, {\"id\": 10749, \"...</td>\n",
       "      <td>NaN</td>\n",
       "      <td>[{\"id\": 3687, \"name\": \"graduation\"}, {\"id\": 61...</td>\n",
       "      <td>en</td>\n",
       "      <td>American Pie</td>\n",
       "      <td>...</td>\n",
       "      <td>[{\"iso_3166_1\": \"US\", \"name\": \"United States o...</td>\n",
       "      <td>1999-07-09</td>\n",
       "      <td>235483004</td>\n",
       "      <td>95.0</td>\n",
       "      <td>[{\"iso_639_1\": \"en\", \"name\": \"English\"}]</td>\n",
       "      <td>Released</td>\n",
       "      <td>There's nothing like your first piece.</td>\n",
       "      <td>American Pie</td>\n",
       "      <td>6.4</td>\n",
       "      <td>2296</td>\n",
       "    </tr>\n",
       "  </tbody>\n",
       "</table>\n",
       "<p>1 rows × 23 columns</p>\n",
       "</div>"
      ],
      "text/plain": [
       "   userId  movieId  rating   timestamp    budget  \\\n",
       "0       1     2105     4.0  1260759139  11000000   \n",
       "\n",
       "                                              genres homepage  \\\n",
       "0  [{\"id\": 35, \"name\": \"Comedy\"}, {\"id\": 10749, \"...      NaN   \n",
       "\n",
       "                                            keywords original_language  \\\n",
       "0  [{\"id\": 3687, \"name\": \"graduation\"}, {\"id\": 61...                en   \n",
       "\n",
       "  original_title  ...                               production_countries  \\\n",
       "0   American Pie  ...  [{\"iso_3166_1\": \"US\", \"name\": \"United States o...   \n",
       "\n",
       "   release_date    revenue runtime                          spoken_languages  \\\n",
       "0    1999-07-09  235483004    95.0  [{\"iso_639_1\": \"en\", \"name\": \"English\"}]   \n",
       "\n",
       "     status                                 tagline         title  \\\n",
       "0  Released  There's nothing like your first piece.  American Pie   \n",
       "\n",
       "  vote_average vote_count  \n",
       "0          6.4       2296  \n",
       "\n",
       "[1 rows x 23 columns]"
      ]
     },
     "execution_count": 10,
     "metadata": {},
     "output_type": "execute_result"
    }
   ],
   "source": [
    "ratings_movies.head(1)"
   ]
  },
  {
   "cell_type": "code",
   "execution_count": 11,
   "metadata": {
    "id": "H_tRrj-j-b86",
    "outputId": "2bd5f709-9796-43e9-fbf3-aa74cbaf6cfe"
   },
   "outputs": [
    {
     "data": {
      "text/plain": [
       "(18571, 23)"
      ]
     },
     "execution_count": 11,
     "metadata": {},
     "output_type": "execute_result"
    }
   ],
   "source": [
    "ratings_movies.shape"
   ]
  },
  {
   "cell_type": "code",
   "execution_count": 12,
   "metadata": {
    "id": "bFAiDKvt-b87"
   },
   "outputs": [],
   "source": [
    "data = ratings_movies.pivot_table('rating', index = 'userId', columns = 'title').fillna(0)"
   ]
  },
  {
   "cell_type": "code",
   "execution_count": 13,
   "metadata": {
    "id": "NoiS2VfV-b87",
    "outputId": "0a1a5590-3040-4cf3-9783-6bcffd272205"
   },
   "outputs": [
    {
     "data": {
      "text/html": [
       "<div>\n",
       "<style scoped>\n",
       "    .dataframe tbody tr th:only-of-type {\n",
       "        vertical-align: middle;\n",
       "    }\n",
       "\n",
       "    .dataframe tbody tr th {\n",
       "        vertical-align: top;\n",
       "    }\n",
       "\n",
       "    .dataframe thead th {\n",
       "        text-align: right;\n",
       "    }\n",
       "</style>\n",
       "<table border=\"1\" class=\"dataframe\">\n",
       "  <thead>\n",
       "    <tr style=\"text-align: right;\">\n",
       "      <th>title</th>\n",
       "      <th>10 Things I Hate About You</th>\n",
       "      <th>12 Angry Men</th>\n",
       "      <th>1408</th>\n",
       "      <th>15 Minutes</th>\n",
       "      <th>16 Blocks</th>\n",
       "      <th>20,000 Leagues Under the Sea</th>\n",
       "      <th>2001: A Space Odyssey</th>\n",
       "      <th>2046</th>\n",
       "      <th>21 Grams</th>\n",
       "      <th>25th Hour</th>\n",
       "      <th>...</th>\n",
       "      <th>Willy Wonka &amp; the Chocolate Factory</th>\n",
       "      <th>World Trade Center</th>\n",
       "      <th>X-Men Origins: Wolverine</th>\n",
       "      <th>Y Tu Mamá También</th>\n",
       "      <th>You Only Live Twice</th>\n",
       "      <th>You, Me and Dupree</th>\n",
       "      <th>Young Frankenstein</th>\n",
       "      <th>Zodiac</th>\n",
       "      <th>eXistenZ</th>\n",
       "      <th>xXx</th>\n",
       "    </tr>\n",
       "    <tr>\n",
       "      <th>userId</th>\n",
       "      <th></th>\n",
       "      <th></th>\n",
       "      <th></th>\n",
       "      <th></th>\n",
       "      <th></th>\n",
       "      <th></th>\n",
       "      <th></th>\n",
       "      <th></th>\n",
       "      <th></th>\n",
       "      <th></th>\n",
       "      <th></th>\n",
       "      <th></th>\n",
       "      <th></th>\n",
       "      <th></th>\n",
       "      <th></th>\n",
       "      <th></th>\n",
       "      <th></th>\n",
       "      <th></th>\n",
       "      <th></th>\n",
       "      <th></th>\n",
       "      <th></th>\n",
       "    </tr>\n",
       "  </thead>\n",
       "  <tbody>\n",
       "    <tr>\n",
       "      <th>1</th>\n",
       "      <td>0.0</td>\n",
       "      <td>0.0</td>\n",
       "      <td>0.0</td>\n",
       "      <td>0.0</td>\n",
       "      <td>0.0</td>\n",
       "      <td>0.0</td>\n",
       "      <td>0.0</td>\n",
       "      <td>0.0</td>\n",
       "      <td>0.0</td>\n",
       "      <td>0.0</td>\n",
       "      <td>...</td>\n",
       "      <td>0.0</td>\n",
       "      <td>0.0</td>\n",
       "      <td>0.0</td>\n",
       "      <td>0.0</td>\n",
       "      <td>0.0</td>\n",
       "      <td>0.0</td>\n",
       "      <td>0.0</td>\n",
       "      <td>0.0</td>\n",
       "      <td>0.0</td>\n",
       "      <td>0.0</td>\n",
       "    </tr>\n",
       "    <tr>\n",
       "      <th>2</th>\n",
       "      <td>0.0</td>\n",
       "      <td>0.0</td>\n",
       "      <td>0.0</td>\n",
       "      <td>0.0</td>\n",
       "      <td>0.0</td>\n",
       "      <td>0.0</td>\n",
       "      <td>3.0</td>\n",
       "      <td>0.0</td>\n",
       "      <td>0.0</td>\n",
       "      <td>0.0</td>\n",
       "      <td>...</td>\n",
       "      <td>0.0</td>\n",
       "      <td>0.0</td>\n",
       "      <td>0.0</td>\n",
       "      <td>0.0</td>\n",
       "      <td>0.0</td>\n",
       "      <td>0.0</td>\n",
       "      <td>0.0</td>\n",
       "      <td>0.0</td>\n",
       "      <td>0.0</td>\n",
       "      <td>0.0</td>\n",
       "    </tr>\n",
       "    <tr>\n",
       "      <th>3</th>\n",
       "      <td>0.0</td>\n",
       "      <td>0.0</td>\n",
       "      <td>0.0</td>\n",
       "      <td>0.0</td>\n",
       "      <td>0.0</td>\n",
       "      <td>0.0</td>\n",
       "      <td>0.0</td>\n",
       "      <td>0.0</td>\n",
       "      <td>0.0</td>\n",
       "      <td>0.0</td>\n",
       "      <td>...</td>\n",
       "      <td>0.0</td>\n",
       "      <td>0.0</td>\n",
       "      <td>0.0</td>\n",
       "      <td>0.0</td>\n",
       "      <td>0.0</td>\n",
       "      <td>0.0</td>\n",
       "      <td>0.0</td>\n",
       "      <td>0.0</td>\n",
       "      <td>0.0</td>\n",
       "      <td>0.0</td>\n",
       "    </tr>\n",
       "    <tr>\n",
       "      <th>4</th>\n",
       "      <td>0.0</td>\n",
       "      <td>0.0</td>\n",
       "      <td>0.0</td>\n",
       "      <td>0.0</td>\n",
       "      <td>0.0</td>\n",
       "      <td>3.0</td>\n",
       "      <td>0.0</td>\n",
       "      <td>0.0</td>\n",
       "      <td>0.0</td>\n",
       "      <td>0.0</td>\n",
       "      <td>...</td>\n",
       "      <td>0.0</td>\n",
       "      <td>0.0</td>\n",
       "      <td>5.0</td>\n",
       "      <td>0.0</td>\n",
       "      <td>0.0</td>\n",
       "      <td>0.0</td>\n",
       "      <td>5.0</td>\n",
       "      <td>0.0</td>\n",
       "      <td>0.0</td>\n",
       "      <td>0.0</td>\n",
       "    </tr>\n",
       "    <tr>\n",
       "      <th>5</th>\n",
       "      <td>0.0</td>\n",
       "      <td>0.0</td>\n",
       "      <td>0.0</td>\n",
       "      <td>0.0</td>\n",
       "      <td>0.0</td>\n",
       "      <td>0.0</td>\n",
       "      <td>0.0</td>\n",
       "      <td>0.0</td>\n",
       "      <td>0.0</td>\n",
       "      <td>0.0</td>\n",
       "      <td>...</td>\n",
       "      <td>0.0</td>\n",
       "      <td>0.0</td>\n",
       "      <td>0.0</td>\n",
       "      <td>0.0</td>\n",
       "      <td>0.0</td>\n",
       "      <td>0.0</td>\n",
       "      <td>0.0</td>\n",
       "      <td>0.0</td>\n",
       "      <td>0.0</td>\n",
       "      <td>0.0</td>\n",
       "    </tr>\n",
       "  </tbody>\n",
       "</table>\n",
       "<p>5 rows × 856 columns</p>\n",
       "</div>"
      ],
      "text/plain": [
       "title   10 Things I Hate About You  12 Angry Men  1408  15 Minutes  16 Blocks  \\\n",
       "userId                                                                          \n",
       "1                              0.0           0.0   0.0         0.0        0.0   \n",
       "2                              0.0           0.0   0.0         0.0        0.0   \n",
       "3                              0.0           0.0   0.0         0.0        0.0   \n",
       "4                              0.0           0.0   0.0         0.0        0.0   \n",
       "5                              0.0           0.0   0.0         0.0        0.0   \n",
       "\n",
       "title   20,000 Leagues Under the Sea  2001: A Space Odyssey  2046  21 Grams  \\\n",
       "userId                                                                        \n",
       "1                                0.0                    0.0   0.0       0.0   \n",
       "2                                0.0                    3.0   0.0       0.0   \n",
       "3                                0.0                    0.0   0.0       0.0   \n",
       "4                                3.0                    0.0   0.0       0.0   \n",
       "5                                0.0                    0.0   0.0       0.0   \n",
       "\n",
       "title   25th Hour  ...  Willy Wonka & the Chocolate Factory  \\\n",
       "userId             ...                                        \n",
       "1             0.0  ...                                  0.0   \n",
       "2             0.0  ...                                  0.0   \n",
       "3             0.0  ...                                  0.0   \n",
       "4             0.0  ...                                  0.0   \n",
       "5             0.0  ...                                  0.0   \n",
       "\n",
       "title   World Trade Center  X-Men Origins: Wolverine  Y Tu Mamá También  \\\n",
       "userId                                                                    \n",
       "1                      0.0                       0.0                0.0   \n",
       "2                      0.0                       0.0                0.0   \n",
       "3                      0.0                       0.0                0.0   \n",
       "4                      0.0                       5.0                0.0   \n",
       "5                      0.0                       0.0                0.0   \n",
       "\n",
       "title   You Only Live Twice  You, Me and Dupree  Young Frankenstein  Zodiac  \\\n",
       "userId                                                                        \n",
       "1                       0.0                 0.0                 0.0     0.0   \n",
       "2                       0.0                 0.0                 0.0     0.0   \n",
       "3                       0.0                 0.0                 0.0     0.0   \n",
       "4                       0.0                 0.0                 5.0     0.0   \n",
       "5                       0.0                 0.0                 0.0     0.0   \n",
       "\n",
       "title   eXistenZ  xXx  \n",
       "userId                 \n",
       "1            0.0  0.0  \n",
       "2            0.0  0.0  \n",
       "3            0.0  0.0  \n",
       "4            0.0  0.0  \n",
       "5            0.0  0.0  \n",
       "\n",
       "[5 rows x 856 columns]"
      ]
     },
     "execution_count": 13,
     "metadata": {},
     "output_type": "execute_result"
    }
   ],
   "source": [
    "data.head()"
   ]
  },
  {
   "cell_type": "code",
   "execution_count": 14,
   "metadata": {
    "id": "hWmQrx_e-b87",
    "outputId": "3a3dc401-9264-4d33-c752-42035fc452eb"
   },
   "outputs": [
    {
     "data": {
      "text/plain": [
       "(670, 856)"
      ]
     },
     "execution_count": 14,
     "metadata": {},
     "output_type": "execute_result"
    }
   ],
   "source": [
    "data.shape"
   ]
  },
  {
   "cell_type": "markdown",
   "metadata": {
    "id": "JdjI2QBt-b87"
   },
   "source": [
    "merge한 결과 사용자별 영화 title에 따라 **평점**을 매긴 정보를 확인할 수 있음.\n",
    "\n",
    "또한, 아이템 기반 협업 필터링이므로 row가 user기반이면 안되고, **item이 row가 되어야 함.**\n",
    "\n",
    "그 이유는 **cosine similarity**를 구할 때 **row 기반으로 유사도를 측정**하기 때문임.\n",
    "- 즉, row를 item으로 변경해야 함."
   ]
  },
  {
   "cell_type": "code",
   "execution_count": 15,
   "metadata": {
    "id": "SG9FsHC6-b87",
    "outputId": "a155a19e-5afe-498d-9a02-15752eb9d493"
   },
   "outputs": [
    {
     "data": {
      "text/html": [
       "<div>\n",
       "<style scoped>\n",
       "    .dataframe tbody tr th:only-of-type {\n",
       "        vertical-align: middle;\n",
       "    }\n",
       "\n",
       "    .dataframe tbody tr th {\n",
       "        vertical-align: top;\n",
       "    }\n",
       "\n",
       "    .dataframe thead th {\n",
       "        text-align: right;\n",
       "    }\n",
       "</style>\n",
       "<table border=\"1\" class=\"dataframe\">\n",
       "  <thead>\n",
       "    <tr style=\"text-align: right;\">\n",
       "      <th>userId</th>\n",
       "      <th>1</th>\n",
       "      <th>2</th>\n",
       "      <th>3</th>\n",
       "      <th>4</th>\n",
       "      <th>5</th>\n",
       "      <th>6</th>\n",
       "      <th>7</th>\n",
       "      <th>8</th>\n",
       "      <th>9</th>\n",
       "      <th>10</th>\n",
       "      <th>...</th>\n",
       "      <th>662</th>\n",
       "      <th>663</th>\n",
       "      <th>664</th>\n",
       "      <th>665</th>\n",
       "      <th>666</th>\n",
       "      <th>667</th>\n",
       "      <th>668</th>\n",
       "      <th>669</th>\n",
       "      <th>670</th>\n",
       "      <th>671</th>\n",
       "    </tr>\n",
       "    <tr>\n",
       "      <th>title</th>\n",
       "      <th></th>\n",
       "      <th></th>\n",
       "      <th></th>\n",
       "      <th></th>\n",
       "      <th></th>\n",
       "      <th></th>\n",
       "      <th></th>\n",
       "      <th></th>\n",
       "      <th></th>\n",
       "      <th></th>\n",
       "      <th></th>\n",
       "      <th></th>\n",
       "      <th></th>\n",
       "      <th></th>\n",
       "      <th></th>\n",
       "      <th></th>\n",
       "      <th></th>\n",
       "      <th></th>\n",
       "      <th></th>\n",
       "      <th></th>\n",
       "      <th></th>\n",
       "    </tr>\n",
       "  </thead>\n",
       "  <tbody>\n",
       "    <tr>\n",
       "      <th>10 Things I Hate About You</th>\n",
       "      <td>0.0</td>\n",
       "      <td>0.0</td>\n",
       "      <td>0.0</td>\n",
       "      <td>0.0</td>\n",
       "      <td>0.0</td>\n",
       "      <td>0.0</td>\n",
       "      <td>0.0</td>\n",
       "      <td>0.0</td>\n",
       "      <td>0.0</td>\n",
       "      <td>0.0</td>\n",
       "      <td>...</td>\n",
       "      <td>0.0</td>\n",
       "      <td>0.0</td>\n",
       "      <td>0.0</td>\n",
       "      <td>3.0</td>\n",
       "      <td>0.0</td>\n",
       "      <td>0.0</td>\n",
       "      <td>0.0</td>\n",
       "      <td>0.0</td>\n",
       "      <td>0.0</td>\n",
       "      <td>0.0</td>\n",
       "    </tr>\n",
       "    <tr>\n",
       "      <th>12 Angry Men</th>\n",
       "      <td>0.0</td>\n",
       "      <td>0.0</td>\n",
       "      <td>0.0</td>\n",
       "      <td>0.0</td>\n",
       "      <td>0.0</td>\n",
       "      <td>0.0</td>\n",
       "      <td>0.0</td>\n",
       "      <td>0.0</td>\n",
       "      <td>0.0</td>\n",
       "      <td>0.0</td>\n",
       "      <td>...</td>\n",
       "      <td>0.0</td>\n",
       "      <td>0.0</td>\n",
       "      <td>0.0</td>\n",
       "      <td>0.0</td>\n",
       "      <td>0.0</td>\n",
       "      <td>0.0</td>\n",
       "      <td>0.0</td>\n",
       "      <td>0.0</td>\n",
       "      <td>0.0</td>\n",
       "      <td>0.0</td>\n",
       "    </tr>\n",
       "  </tbody>\n",
       "</table>\n",
       "<p>2 rows × 670 columns</p>\n",
       "</div>"
      ],
      "text/plain": [
       "userId                      1    2    3    4    5    6    7    8    9    10   \\\n",
       "title                                                                          \n",
       "10 Things I Hate About You  0.0  0.0  0.0  0.0  0.0  0.0  0.0  0.0  0.0  0.0   \n",
       "12 Angry Men                0.0  0.0  0.0  0.0  0.0  0.0  0.0  0.0  0.0  0.0   \n",
       "\n",
       "userId                      ...  662  663  664  665  666  667  668  669  670  \\\n",
       "title                       ...                                                \n",
       "10 Things I Hate About You  ...  0.0  0.0  0.0  3.0  0.0  0.0  0.0  0.0  0.0   \n",
       "12 Angry Men                ...  0.0  0.0  0.0  0.0  0.0  0.0  0.0  0.0  0.0   \n",
       "\n",
       "userId                      671  \n",
       "title                            \n",
       "10 Things I Hate About You  0.0  \n",
       "12 Angry Men                0.0  \n",
       "\n",
       "[2 rows x 670 columns]"
      ]
     },
     "execution_count": 15,
     "metadata": {},
     "output_type": "execute_result"
    }
   ],
   "source": [
    "data = data.transpose()\n",
    "data.head(2)"
   ]
  },
  {
   "cell_type": "code",
   "execution_count": 16,
   "metadata": {
    "id": "VzmYew9g-b88",
    "outputId": "b6bdd118-ca3a-40be-d0f5-ee252b929520"
   },
   "outputs": [
    {
     "data": {
      "text/plain": [
       "(856, 670)"
      ]
     },
     "execution_count": 16,
     "metadata": {},
     "output_type": "execute_result"
    }
   ],
   "source": [
    "data.shape"
   ]
  },
  {
   "cell_type": "markdown",
   "metadata": {
    "id": "Tvsfcrdh-b88"
   },
   "source": [
    "그 후, item별로 유사한 것을 측정"
   ]
  },
  {
   "cell_type": "code",
   "execution_count": 17,
   "metadata": {
    "id": "S8RzzWWI-b88",
    "outputId": "5ba5292a-5e6e-4f1b-f4e1-f43d101a6a37"
   },
   "outputs": [
    {
     "name": "stdout",
     "output_type": "stream",
     "text": [
      "(856, 856)\n"
     ]
    }
   ],
   "source": [
    "movie_sim = cosine_similarity(data, data)\n",
    "print(movie_sim.shape)"
   ]
  },
  {
   "cell_type": "code",
   "execution_count": 18,
   "metadata": {
    "id": "H9RTTuMV-b88"
   },
   "outputs": [],
   "source": [
    "movie_sim_df = pd.DataFrame(data = movie_sim, index = data.index, columns = data.index)"
   ]
  },
  {
   "cell_type": "code",
   "execution_count": 19,
   "metadata": {
    "id": "F2CQ8AUr-b89",
    "outputId": "597d6871-c9c0-418f-ecd0-0337698518fe"
   },
   "outputs": [
    {
     "data": {
      "text/html": [
       "<div>\n",
       "<style scoped>\n",
       "    .dataframe tbody tr th:only-of-type {\n",
       "        vertical-align: middle;\n",
       "    }\n",
       "\n",
       "    .dataframe tbody tr th {\n",
       "        vertical-align: top;\n",
       "    }\n",
       "\n",
       "    .dataframe thead th {\n",
       "        text-align: right;\n",
       "    }\n",
       "</style>\n",
       "<table border=\"1\" class=\"dataframe\">\n",
       "  <thead>\n",
       "    <tr style=\"text-align: right;\">\n",
       "      <th>title</th>\n",
       "      <th>10 Things I Hate About You</th>\n",
       "      <th>12 Angry Men</th>\n",
       "      <th>1408</th>\n",
       "      <th>15 Minutes</th>\n",
       "      <th>16 Blocks</th>\n",
       "      <th>20,000 Leagues Under the Sea</th>\n",
       "      <th>2001: A Space Odyssey</th>\n",
       "      <th>2046</th>\n",
       "      <th>21 Grams</th>\n",
       "      <th>25th Hour</th>\n",
       "      <th>...</th>\n",
       "      <th>Willy Wonka &amp; the Chocolate Factory</th>\n",
       "      <th>World Trade Center</th>\n",
       "      <th>X-Men Origins: Wolverine</th>\n",
       "      <th>Y Tu Mamá También</th>\n",
       "      <th>You Only Live Twice</th>\n",
       "      <th>You, Me and Dupree</th>\n",
       "      <th>Young Frankenstein</th>\n",
       "      <th>Zodiac</th>\n",
       "      <th>eXistenZ</th>\n",
       "      <th>xXx</th>\n",
       "    </tr>\n",
       "    <tr>\n",
       "      <th>title</th>\n",
       "      <th></th>\n",
       "      <th></th>\n",
       "      <th></th>\n",
       "      <th></th>\n",
       "      <th></th>\n",
       "      <th></th>\n",
       "      <th></th>\n",
       "      <th></th>\n",
       "      <th></th>\n",
       "      <th></th>\n",
       "      <th></th>\n",
       "      <th></th>\n",
       "      <th></th>\n",
       "      <th></th>\n",
       "      <th></th>\n",
       "      <th></th>\n",
       "      <th></th>\n",
       "      <th></th>\n",
       "      <th></th>\n",
       "      <th></th>\n",
       "      <th></th>\n",
       "    </tr>\n",
       "  </thead>\n",
       "  <tbody>\n",
       "    <tr>\n",
       "      <th>10 Things I Hate About You</th>\n",
       "      <td>1.0</td>\n",
       "      <td>0.0</td>\n",
       "      <td>0.0</td>\n",
       "      <td>0.182153</td>\n",
       "      <td>0.0</td>\n",
       "      <td>0.022069</td>\n",
       "      <td>0.085323</td>\n",
       "      <td>0.0</td>\n",
       "      <td>0.0</td>\n",
       "      <td>0.10349</td>\n",
       "      <td>...</td>\n",
       "      <td>0.059856</td>\n",
       "      <td>0.0</td>\n",
       "      <td>0.161801</td>\n",
       "      <td>0.088076</td>\n",
       "      <td>0.0</td>\n",
       "      <td>0.0</td>\n",
       "      <td>0.097588</td>\n",
       "      <td>0.0</td>\n",
       "      <td>0.0</td>\n",
       "      <td>0.014121</td>\n",
       "    </tr>\n",
       "    <tr>\n",
       "      <th>12 Angry Men</th>\n",
       "      <td>0.0</td>\n",
       "      <td>1.0</td>\n",
       "      <td>0.0</td>\n",
       "      <td>0.000000</td>\n",
       "      <td>0.0</td>\n",
       "      <td>0.000000</td>\n",
       "      <td>0.000000</td>\n",
       "      <td>0.0</td>\n",
       "      <td>0.0</td>\n",
       "      <td>0.00000</td>\n",
       "      <td>...</td>\n",
       "      <td>0.000000</td>\n",
       "      <td>0.0</td>\n",
       "      <td>0.000000</td>\n",
       "      <td>0.000000</td>\n",
       "      <td>0.0</td>\n",
       "      <td>0.0</td>\n",
       "      <td>0.000000</td>\n",
       "      <td>0.0</td>\n",
       "      <td>0.0</td>\n",
       "      <td>0.000000</td>\n",
       "    </tr>\n",
       "    <tr>\n",
       "      <th>1408</th>\n",
       "      <td>0.0</td>\n",
       "      <td>0.0</td>\n",
       "      <td>1.0</td>\n",
       "      <td>0.447214</td>\n",
       "      <td>0.0</td>\n",
       "      <td>0.173381</td>\n",
       "      <td>0.028245</td>\n",
       "      <td>0.0</td>\n",
       "      <td>0.0</td>\n",
       "      <td>0.00000</td>\n",
       "      <td>...</td>\n",
       "      <td>0.146955</td>\n",
       "      <td>0.0</td>\n",
       "      <td>0.148968</td>\n",
       "      <td>0.140265</td>\n",
       "      <td>0.0</td>\n",
       "      <td>0.0</td>\n",
       "      <td>0.191675</td>\n",
       "      <td>0.0</td>\n",
       "      <td>0.0</td>\n",
       "      <td>0.000000</td>\n",
       "    </tr>\n",
       "  </tbody>\n",
       "</table>\n",
       "<p>3 rows × 856 columns</p>\n",
       "</div>"
      ],
      "text/plain": [
       "title                       10 Things I Hate About You  12 Angry Men  1408  \\\n",
       "title                                                                        \n",
       "10 Things I Hate About You                         1.0           0.0   0.0   \n",
       "12 Angry Men                                       0.0           1.0   0.0   \n",
       "1408                                               0.0           0.0   1.0   \n",
       "\n",
       "title                       15 Minutes  16 Blocks  \\\n",
       "title                                               \n",
       "10 Things I Hate About You    0.182153        0.0   \n",
       "12 Angry Men                  0.000000        0.0   \n",
       "1408                          0.447214        0.0   \n",
       "\n",
       "title                       20,000 Leagues Under the Sea  \\\n",
       "title                                                      \n",
       "10 Things I Hate About You                      0.022069   \n",
       "12 Angry Men                                    0.000000   \n",
       "1408                                            0.173381   \n",
       "\n",
       "title                       2001: A Space Odyssey  2046  21 Grams  25th Hour  \\\n",
       "title                                                                          \n",
       "10 Things I Hate About You               0.085323   0.0       0.0    0.10349   \n",
       "12 Angry Men                             0.000000   0.0       0.0    0.00000   \n",
       "1408                                     0.028245   0.0       0.0    0.00000   \n",
       "\n",
       "title                       ...  Willy Wonka & the Chocolate Factory  \\\n",
       "title                       ...                                        \n",
       "10 Things I Hate About You  ...                             0.059856   \n",
       "12 Angry Men                ...                             0.000000   \n",
       "1408                        ...                             0.146955   \n",
       "\n",
       "title                       World Trade Center  X-Men Origins: Wolverine  \\\n",
       "title                                                                      \n",
       "10 Things I Hate About You                 0.0                  0.161801   \n",
       "12 Angry Men                               0.0                  0.000000   \n",
       "1408                                       0.0                  0.148968   \n",
       "\n",
       "title                       Y Tu Mamá También  You Only Live Twice  \\\n",
       "title                                                                \n",
       "10 Things I Hate About You           0.088076                  0.0   \n",
       "12 Angry Men                         0.000000                  0.0   \n",
       "1408                                 0.140265                  0.0   \n",
       "\n",
       "title                       You, Me and Dupree  Young Frankenstein  Zodiac  \\\n",
       "title                                                                        \n",
       "10 Things I Hate About You                 0.0            0.097588     0.0   \n",
       "12 Angry Men                               0.0            0.000000     0.0   \n",
       "1408                                       0.0            0.191675     0.0   \n",
       "\n",
       "title                       eXistenZ       xXx  \n",
       "title                                           \n",
       "10 Things I Hate About You       0.0  0.014121  \n",
       "12 Angry Men                     0.0  0.000000  \n",
       "1408                             0.0  0.000000  \n",
       "\n",
       "[3 rows x 856 columns]"
      ]
     },
     "execution_count": 19,
     "metadata": {},
     "output_type": "execute_result"
    }
   ],
   "source": [
    "movie_sim_df.head(3)"
   ]
  },
  {
   "cell_type": "markdown",
   "metadata": {
    "id": "ay4txohE-b89"
   },
   "source": [
    "이제 **특정 영화와 비교**했을 때 그 영화와 **유사한 영화**들을 **추천**하면 됨."
   ]
  },
  {
   "cell_type": "code",
   "execution_count": 20,
   "metadata": {
    "id": "0hM94VT1-b89",
    "outputId": "53ab4e31-9b13-4e9b-f3f2-7a24e40ba712"
   },
   "outputs": [
    {
     "data": {
      "text/plain": [
       "title\n",
       "Romeo Must Die                        0.649625\n",
       "The Wedding Planner                   0.631669\n",
       "Dogtown and Z-Boys                    0.501189\n",
       "An Unfinished Life                    0.485643\n",
       "Conquest of the Planet of the Apes    0.474626\n",
       "Reign Over Me                         0.458155\n",
       "The Terminal                          0.445337\n",
       "Young Frankenstein                    0.423840\n",
       "Whale Rider                           0.394136\n",
       "Name: X-Men Origins: Wolverine, dtype: float64"
      ]
     },
     "execution_count": 20,
     "metadata": {},
     "output_type": "execute_result"
    }
   ],
   "source": [
    "movie_sim_df[\"X-Men Origins: Wolverine\"].sort_values(ascending=False)[1:10]"
   ]
  },
  {
   "cell_type": "code",
   "execution_count": 21,
   "metadata": {
    "id": "C0le33-I-b89",
    "outputId": "18eb40d0-5f49-4815-ee01-129c2d545d04"
   },
   "outputs": [
    {
     "data": {
      "text/plain": [
       "title\n",
       "Liar Liar                                 1.000000\n",
       "Family Plot                               1.000000\n",
       "Once                                      1.000000\n",
       "Synecdoche, New York                      1.000000\n",
       "Rendition                                 1.000000\n",
       "Harry Potter and the Half-Blood Prince    1.000000\n",
       "The Astronaut Farmer                      0.970143\n",
       "Schindler's List                          0.724286\n",
       "The Last King of Scotland                 0.707107\n",
       "Name: Harry Potter and the Half-Blood Prince, dtype: float64"
      ]
     },
     "execution_count": 21,
     "metadata": {},
     "output_type": "execute_result"
    }
   ],
   "source": [
    "movie_sim_df[\"Harry Potter and the Half-Blood Prince\"].sort_values(ascending=False)[1:10]"
   ]
  },
  {
   "cell_type": "code",
   "execution_count": 22,
   "metadata": {
    "id": "g8dU6G0M-b89",
    "outputId": "79f099be-f209-46ba-8673-6712d510563a"
   },
   "outputs": [
    {
     "data": {
      "text/plain": [
       "title\n",
       "The Blue Lagoon                           1.000000\n",
       "Liar Liar                                 1.000000\n",
       "Family Plot                               1.000000\n",
       "Once                                      1.000000\n",
       "Synecdoche, New York                      1.000000\n",
       "Rendition                                 1.000000\n",
       "Harry Potter and the Half-Blood Prince    1.000000\n",
       "The Astronaut Farmer                      0.970143\n",
       "Schindler's List                          0.724286\n",
       "The Last King of Scotland                 0.707107\n",
       "Name: Harry Potter and the Half-Blood Prince, dtype: float64"
      ]
     },
     "execution_count": 22,
     "metadata": {},
     "output_type": "execute_result"
    }
   ],
   "source": [
    "movie_sim_df[\"Harry Potter and the Half-Blood Prince\"].sort_values(ascending=False)[:10]"
   ]
  },
  {
   "cell_type": "code",
   "execution_count": 23,
   "metadata": {
    "id": "PS5DfmC3-b89",
    "outputId": "4e8295b3-2f31-4b0e-a2cd-66d4c9604cf1"
   },
   "outputs": [
    {
     "data": {
      "text/plain": [
       "title\n",
       "Fantasia                                  0.648886\n",
       "2046                                      0.648886\n",
       "Rendition                                 0.486664\n",
       "Family Plot                               0.486664\n",
       "Liar Liar                                 0.486664\n",
       "Harry Potter and the Half-Blood Prince    0.486664\n",
       "Synecdoche, New York                      0.486664\n",
       "The Blue Lagoon                           0.486664\n",
       "Once                                      0.486664\n",
       "Name: King Kong, dtype: float64"
      ]
     },
     "execution_count": 23,
     "metadata": {},
     "output_type": "execute_result"
    }
   ],
   "source": [
    "movie_sim_df[\"King Kong\"].sort_values(ascending=False)[1:10]"
   ]
  }
 ],
 "metadata": {
  "colab": {
   "collapsed_sections": [],
   "name": "02. 협업 기반(collaborative filtering) - 1.ipynb",
   "provenance": []
  },
  "kernelspec": {
   "display_name": "Python 3 (ipykernel)",
   "language": "python",
   "name": "python3"
  },
  "language_info": {
   "codemirror_mode": {
    "name": "ipython",
    "version": 3
   },
   "file_extension": ".py",
   "mimetype": "text/x-python",
   "name": "python",
   "nbconvert_exporter": "python",
   "pygments_lexer": "ipython3",
   "version": "3.7.0"
  }
 },
 "nbformat": 4,
 "nbformat_minor": 1
}
